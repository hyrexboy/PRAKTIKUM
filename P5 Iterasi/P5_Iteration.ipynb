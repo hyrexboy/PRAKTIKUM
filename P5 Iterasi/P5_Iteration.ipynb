{
 "cells": [
  {
   "cell_type": "markdown",
   "id": "b3450a5a-c882-48e6-8aae-8be59018aedb",
   "metadata": {
    "id": "b3450a5a-c882-48e6-8aae-8be59018aedb"
   },
   "source": [
    "\n",
    "# Praktikum 5: Iterasi\n",
    "\n",
    "## Tujuan Pembelajaran\n",
    "- Memahami dan mengimplementasikan jenis-jenis iterasi/perulangan (for, while) dalam Python.\n",
    "- Menggunakan perulangan untuk menyelesaikan berbagai kasus pemrograman.\n",
    "\n",
    "## Pokok Bahasan\n",
    "- Perulangan for\n",
    "- Perulangan while\n",
    "- Penggunaan `break` dan `continue` dalam perulangan\n",
    "\n",
    "Berikut ini adalah beberapa percobaan dan latihan yang bertujuan untuk memahami konsep iterasi dalam Python.\n"
   ]
  },
  {
   "attachments": {},
   "cell_type": "markdown",
   "id": "e989c82b-4c5e-4eaf-9152-4a4c9a494b65",
   "metadata": {},
   "source": [
    "\n",
    "### Percobaan 5.1: Perulangan For\n",
    "\n",
    "Tabel di bawah ini menunjukkan skenario perulangan menggunakan perintah `for`. Buatlah program berdasarkan tabel ini.\n",
    "\n",
    "| Kondisi Perulangan                     | Perintah                                                   |\n",
    "|----------------------------------------|------------------------------------------------------------|\n",
    "| Menampilkan angka 1 sampai 10          | `for i in range(1, 11): print(i)`                          |\n",
    "| Menampilkan bilangan genap 0 sampai 10 | `for i in range(0, 11, 2): print(i)`                       |\n",
    "| Menampilkan setiap karakter dalam \"Python\" | `for char in \"Python\": print(char)`                       |\n",
    "\n",
    "#### Soal:\n",
    "1. Implementasikan program dari setiap skenario pada tabel di atas.\n",
    "2. Uji program dengan output yang benar.\n",
    "\n",
    "<img src=\"Screenshot (1).png\" alt=\"Deskripsi Gambar\" width=\"350\" style=\"margin-left: 30px;\" />\n"
   ]
  },
  {
   "cell_type": "code",
   "execution_count": 20,
   "id": "9fa8e6ec-9e38-4682-867e-c5bffe40ef5c",
   "metadata": {},
   "outputs": [
    {
     "name": "stdout",
     "output_type": "stream",
     "text": [
      "Ini perulagan ke 1\n",
      "Ini perulagan ke 2\n",
      "Ini perulagan ke 3\n",
      "Ini perulagan ke 4\n",
      "Ini perulagan ke 5\n",
      "Ini perulagan ke 6\n",
      "Ini perulagan ke 7\n",
      "Ini perulagan ke 8\n",
      "Ini perulagan ke 9\n",
      "Ini perulagan ke 10\n",
      "Bilangan genap ke 0\n",
      "Bilangan genap ke 2\n",
      "Bilangan genap ke 4\n",
      "Bilangan genap ke 6\n",
      "Bilangan genap ke 8\n",
      "Bilangan genap ke 10\n",
      "P\n",
      "y\n",
      "t\n",
      "h\n",
      "o\n",
      "n\n",
      "Python"
     ]
    }
   ],
   "source": [
    "# Ketikan Code Disini lalu Jalankan (Run)\n",
    "for i in range(1,11):\n",
    "    print(f\"Ini perulagan ke {i}\")\n",
    "\n",
    "for i in range(0,11,2):\n",
    "    print(f\"Bilangan genap ke {i}\")\n",
    "\n",
    "for char in \"Python\":\n",
    "    print(char)\n",
    "\n",
    "for char in \"Python\":\n",
    "    print(char, end = \"\")"
   ]
  },
  {
   "cell_type": "markdown",
   "id": "28e24639-72f7-4d78-8169-b805c5bee744",
   "metadata": {},
   "source": [
    "\n",
    "### Percobaan 5.2: Perulangan While\n",
    "\n",
    "Tabel di bawah ini menunjukkan contoh penggunaan perulangan `while` dalam berbagai skenario.\n",
    "\n",
    "| Kondisi Perulangan                      | Perintah                                                      |\n",
    "|-----------------------------------------|---------------------------------------------------------------|\n",
    "| Menampilkan angka 1 sampai 5            | `i = 1 while i <= 5: print(i) i += 1`                         |\n",
    "| Menampilkan bilangan ganjil 1 sampai 19 | `i = 1 while i < 20: if i % 2 != 0: print(i) i += 1`          |\n",
    "| Berhenti ketika angka mencapai 10       | `i = 0 while True: if i == 10: break print(i) i += 1`         |\n",
    "\n",
    "#### Soal:\n",
    "1. Implementasikan program dari setiap skenario pada tabel di atas.\n",
    "2. Uji program dengan output yang benar.\n",
    "\n",
    "<img src=\"Screenshot (2).png\" alt=\"Deskripsi Gambar\" width=\"350\" style=\"margin-left: 30px;\" />"
   ]
  },
  {
   "cell_type": "code",
   "execution_count": 11,
   "id": "fdcfc818-bdeb-48d8-a8f1-05539fd59bc5",
   "metadata": {},
   "outputs": [
    {
     "name": "stdout",
     "output_type": "stream",
     "text": [
      "Angka ke 1\n",
      "Angka ke 2\n",
      "Angka ke 3\n",
      "Angka ke 4\n",
      "Angka ke 5\n",
      "Bilangan ganjil ke 1\n",
      "Bilangan ganjil ke 3\n",
      "Bilangan ganjil ke 5\n",
      "Bilangan ganjil ke 7\n",
      "Bilangan ganjil ke 9\n",
      "Bilangan ganjil ke 11\n",
      "Bilangan ganjil ke 13\n",
      "Bilangan ganjil ke 15\n",
      "Bilangan ganjil ke 17\n",
      "Bilangan ganjil ke 19\n",
      "0\n",
      "1\n",
      "2\n",
      "3\n",
      "4\n",
      "5\n",
      "6\n",
      "7\n",
      "8\n",
      "9\n"
     ]
    }
   ],
   "source": [
    "# Ketikan Code Disini lalu Jalankan (Run)\n",
    "i = 1\n",
    "while i <= 5:\n",
    "    print(f\"Angka ke {i}\")\n",
    "    i += 1 #setiap pengulangan variable di tambah 1\n",
    "\n",
    "i = 1\n",
    "while i < 20:\n",
    "    if i % 2!=0:\n",
    "        print (f\"Bilangan ganjil ke {i}\")\n",
    "    i += 1\n",
    "\n",
    "i = 0\n",
    "while True:\n",
    "    if i == 10:\n",
    "        break\n",
    "    print(i)\n",
    "    i += 1"
   ]
  },
  {
   "cell_type": "markdown",
   "id": "04451d75-fd5c-418f-b2b3-bfe3ca35497d",
   "metadata": {},
   "source": [
    "\n",
    "### Percobaan 5.3: Penggunaan `break` dan `continue`\n",
    "\n",
    "Tabel di bawah ini memberikan skenario bagaimana `break` dan `continue` digunakan dalam perulangan.\n",
    "\n",
    "| Kondisi Perulangan                                        | Perintah                                                      |\n",
    "|-----------------------------------------------------------|---------------------------------------------------------------|\n",
    "| Berhenti ketika angka habis dibagi 3 dan 7                 | `for i in range(1, 100): if i % 3 == 0 and i % 7 == 0: break print(i)` |\n",
    "| Menampilkan hanya bilangan genap dari 1 sampai 10 (skip ganjil) | `for i in range(1, 11): if i % 2 != 0: continue print(i)` |\n",
    "\n",
    "#### Soal:\n",
    "1. Implementasikan program berdasarkan tabel di atas.\n",
    "2. Jelaskan peran `break` dan `continue` dalam program yang Anda buat.\n",
    "\n",
    "<img src=\"Screenshot (3).png\" alt=\"Deskripsi Gambar\" width=\"350\" style=\"margin-left: 30px;\" />"
   ]
  },
  {
   "cell_type": "code",
   "execution_count": 13,
   "id": "31d8eb8a-bec2-45e4-83d1-64ebf4a58bb5",
   "metadata": {},
   "outputs": [
    {
     "name": "stdout",
     "output_type": "stream",
     "text": [
      "1\n",
      "2\n",
      "3\n",
      "4\n",
      "5\n",
      "6\n",
      "7\n",
      "8\n",
      "9\n",
      "10\n",
      "11\n",
      "12\n",
      "13\n",
      "14\n",
      "15\n",
      "16\n",
      "17\n",
      "18\n",
      "19\n",
      "20\n",
      "Program break telah di hentikan\n",
      "Bilangan genap: 2\n",
      "Bilangan genap: 4\n",
      "Bilangan genap: 6\n",
      "Bilangan genap: 8\n",
      "Bilangan genap: 10\n"
     ]
    }
   ],
   "source": [
    "# Ketikan Code Disini lalu Jalankan (Run)\n",
    "for i in range(1,100):\n",
    "    if i % 3 == 0 and i % 7 == 0:\n",
    "        break #peran break disini untuk menampilkan bilangan rentang 1 sampai 99, namun akan berhenti ketika terdapat bilangan yang habis dibagi 3 dan 7\n",
    "    print(i)\n",
    "print(\"Program break telah di hentikan\")\n",
    "\n",
    "for i in range(1,11):\n",
    "    if i % 2 != 0:\n",
    "        continue #peran continue disini untuk menampilkan bilangan rentang 1 sampai 10, namun hanya menampilkan bilangan genap ketika terdapat bilangan ganjil akan dilompati (continue)\n",
    "    print(f\"Bilangan genap: {i}\")"
   ]
  },
  {
   "cell_type": "markdown",
   "id": "2b0246ff-584f-4484-b52d-18733bcde7ae",
   "metadata": {},
   "source": [
    "\n",
    "### Percobaan 5.4: Perulangan Bersarang (Nested Loops)\n",
    "\n",
    "Buatlah program yang mencetak tabel perkalian (multiplication table) 1 sampai 5 menggunakan perulangan bersarang.\n",
    "\n",
    "#### Soal:\n",
    "1. Gunakan perulangan bersarang untuk mencetak tabel perkalian.\n",
    "2. Jelaskan bagaimana cara kerja perulangan bersarang dalam program ini.\n",
    "\n",
    "<img src=\"Screenshot (4).png\" alt=\"Deskripsi Gambar\" width=\"450\" style=\"margin-left: 30px;\" />"
   ]
  },
  {
   "cell_type": "code",
   "execution_count": 23,
   "id": "fbbda104-4aa5-4a20-b1d5-7586df18fa69",
   "metadata": {},
   "outputs": [
    {
     "name": "stdout",
     "output_type": "stream",
     "text": [
      "1 2 3 4 5 \n",
      "2 4 6 8 10 \n",
      "3 6 9 12 15 \n",
      "4 8 12 16 20 \n",
      "5 10 15 20 25 \n"
     ]
    },
    {
     "data": {
      "text/plain": [
       "'\\nIndex melakukan perulangan dua kali pada konidisi baru dia menemukan pada aksi pada baris untuk melakukan perkalian berulang\\nj ini 1 sampai 6\\ni ini bernilai 1\\njadi: pada baris pertama (1*1, 1*2, 1*3, 1*4, 1*4, 1*5)\\n      pada baris kedua (2*1, 2*2, 2*3, 2*4, 2*5)\\n      pada baris ketiga (3*1, 3*2, 3*3, 3*4, 3*5)\\n      pada baris keempat (4*1, 4*2, 4*3, 4*4, 4*5)\\n      pada baris kelima (5*1, 5*2, 5*3, 5*4, 5*5)\\nyang dimana (j x i)\\n'"
      ]
     },
     "execution_count": 23,
     "metadata": {},
     "output_type": "execute_result"
    }
   ],
   "source": [
    "# Ketikan Code Disini lalu Jalankan (Run)\n",
    "for i in range(1,6):\n",
    "    for j in range(1,6):\n",
    "        print(i * j, end =\" \")\n",
    "    print()\n",
    "\n",
    "\"\"\"\n",
    "Index melakukan perulangan dua kali pada konidisi baru dia menemukan pada aksi pada baris untuk melakukan perkalian berulang\n",
    "j ini 1 sampai 6\n",
    "i ini bernilai 1\n",
    "jadi: pada baris pertama (1*1, 1*2, 1*3, 1*4, 1*4, 1*5)\n",
    "      pada baris kedua (2*1, 2*2, 2*3, 2*4, 2*5)\n",
    "      pada baris ketiga (3*1, 3*2, 3*3, 3*4, 3*5)\n",
    "      pada baris keempat (4*1, 4*2, 4*3, 4*4, 4*5)\n",
    "      pada baris kelima (5*1, 5*2, 5*3, 5*4, 5*5)\n",
    "yang dimana (j x i)\n",
    "\"\"\""
   ]
  },
  {
   "cell_type": "markdown",
   "id": "027609a3-346c-4999-a485-772128a8bb6a",
   "metadata": {},
   "source": [
    "\n",
    "### Percobaan 5.5: Perulangan dengan Input Pengguna\n",
    "\n",
    "Buatlah program yang meminta pengguna untuk memasukkan bilangan bulat `n` dan menampilkan bilangan genap dari 1 sampai `n` menggunakan perulangan `for`.\n",
    "\n",
    "#### Soal:\n",
    "1. Gunakan input dari pengguna sebagai batasan perulangan.\n",
    "2. Jelaskan bagaimana program bekerja berdasarkan input pengguna.\n",
    "\n",
    "<img src=\"Screenshot (5).png\" alt=\"Deskripsi Gambar\" width=\"450\" style=\"margin-left: 30px;\" />\n"
   ]
  },
  {
   "cell_type": "code",
   "execution_count": 154,
   "id": "456c5fa4-3207-4a8b-a407-58e5282b6def",
   "metadata": {},
   "outputs": [
    {
     "name": "stdin",
     "output_type": "stream",
     "text": [
      "Masukkan bilangan bulat:  20\n"
     ]
    },
    {
     "name": "stdout",
     "output_type": "stream",
     "text": [
      "2\n",
      "4\n",
      "6\n",
      "8\n",
      "10\n",
      "12\n",
      "14\n",
      "16\n",
      "18\n",
      "20\n"
     ]
    }
   ],
   "source": [
    "# Ketikan Code Disini lalu Jalankan (Run)\n",
    "n = int(input(\"Masukkan bilangan bulat: \"))\n",
    "\n",
    "for i in range(1, n+1): #n adalah inputan bilangan bulat, kita input bilangan bulat maka akan tampil pengulangan 10. apakah kita ingin menghitung ganjil ataupun genap. yang salah satu perhitungan akan tidak di anggap\n",
    "    if i % 2 == 0: #angka range adalah angka dimana kita akan memulai\n",
    "        print(i)"
   ]
  },
  {
   "cell_type": "markdown",
   "id": "64898842-5af6-4a9b-9b53-4d0b1c697e30",
   "metadata": {},
   "source": [
    "\n",
    "### Percobaan 5.6: Perulangan While dengan Kondisi Spesifik\n",
    "\n",
    "Buatlah program yang terus meminta input bilangan bulat dari pengguna dan hanya berhenti jika pengguna memasukkan angka yang merupakan kelipatan dari 5.\n",
    "\n",
    "#### Soal:\n",
    "1. Gunakan perulangan while untuk terus meminta input pengguna.\n",
    "2. Jelaskan bagaimana kondisi dalam while loop mengontrol kapan perulangan berhenti.\n",
    "\n",
    "<img src=\"Screenshot (6).png\" alt=\"Deskripsi Gambar\" width=\"450\" style=\"margin-left: 30px;\" />\n"
   ]
  },
  {
   "cell_type": "code",
   "execution_count": 158,
   "id": "59623ae6-cca0-499f-996b-42c17b5eae94",
   "metadata": {},
   "outputs": [
    {
     "name": "stdin",
     "output_type": "stream",
     "text": [
      "Masukkan bilangan bulat:  1\n"
     ]
    },
    {
     "name": "stdout",
     "output_type": "stream",
     "text": [
      "Bukan kelipatan 5, coba lagi.\n"
     ]
    },
    {
     "name": "stdin",
     "output_type": "stream",
     "text": [
      "Masukkan bilangan bulat:  3\n"
     ]
    },
    {
     "name": "stdout",
     "output_type": "stream",
     "text": [
      "Bukan kelipatan 5, coba lagi.\n"
     ]
    },
    {
     "name": "stdin",
     "output_type": "stream",
     "text": [
      "Masukkan bilangan bulat:  5\n"
     ]
    },
    {
     "name": "stdout",
     "output_type": "stream",
     "text": [
      "Anda memasukkan kelipatan 5, program berhenti.\n"
     ]
    }
   ],
   "source": [
    "# Ketikan Code Disini lalu Jalankan (Run)\n",
    "while True:\n",
    "    angka = int(input(\"Masukkan bilangan bulat: \"))\n",
    "    if angka % 5 == 0:\n",
    "        print(\"Anda memasukkan kelipatan 5, program berhenti.\")\n",
    "        break\n",
    "    else:\n",
    "        print(\"Bukan kelipatan 5, coba lagi.\")\n",
    "\n",
    "\"\"\"\n",
    "Jika kita memasukkan input angka yang bukan kelipatan 5 maka, \n",
    "program akan tidak akan berhenti sampai kita memasukkan input dengan angka kelipatan 5 kondisi yang bernilai True.\n",
    "Jika gagal tidak bisa dikalikan sesuai dengan kelipatannya maka akan meminta coba lagi sampai mendapatkan kondisinya agar sesuai kelipatannya.\n",
    "karena ada struktur kontrol percabangan di perulangan.\n",
    "\"\"\""
   ]
  },
  {
   "cell_type": "code",
   "execution_count": null,
   "id": "b54abe5c-314e-4f9a-8af8-5f3a371bd786",
   "metadata": {},
   "outputs": [],
   "source": [
    "# Tugas Mandiri (latihan membuat alur teks program)\n",
    "## Buatlah program dengan alur yang anda bikin sesuai materi diatas\n",
    "## Dimulai dari alur teks (Algoritma Informal)\n",
    "\"\"\"\n",
    "Contoh sederhana dari sebuah algoritma informal yang menjelaskan bagaimana menentukan apakah sebuah angka adalah positif, negatif, atau nol:\n",
    "\n",
    "- Mulai - Mulai proses.\n",
    "- Baca angka - Ambil sebuah angka dari pengguna.\n",
    "- Periksa angka tersebut:\n",
    "- - Jika angka itu lebih besar dari nol, cetak \"Angka positif\".\n",
    "- - Jika angka itu kurang dari nol, cetak \"Angka negatif\".\n",
    "- - Jika angka itu sama dengan nol, cetak \"Angka adalah nol\".\n",
    "- Selesai - Proses selesai.\n",
    "\n",
    "atau\n",
    "- Mulai - Mulai proses pengecekan.\n",
    "- Tanya ke diri sendiri - Apakah saya sudah mandi hari ini?\n",
    "- Evaluasi jawaban:\n",
    "- - Jika jawabannya adalah \"tidak\", maka:\n",
    "- - - Kesimpulan: Saya mungkin bau karena tidak mandi.\n",
    "- - - Tindakan: Pertimbangkan untuk mandi agar tidak bau.\n",
    "- - Jika jawabannya adalah \"ya\", maka:\n",
    "- - - Kesimpulan: Saya tidak bau karena sudah mandi.\n",
    "Selesai - Proses selesai, lanjutkan dengan aktivitas lain.\n",
    "\n",
    "\"\"\""
   ]
  },
  {
   "cell_type": "code",
   "execution_count": null,
   "id": "f695652e-4154-42af-b19f-aa5c274d5bbf",
   "metadata": {},
   "outputs": [],
   "source": [
    "\"\"\"\n",
    "- Mulai - Mulai proses pengecekan.\n",
    "- Tanya ke diri sendiri - Apakah ingin menampilkan angka 1 sampai 10>\n",
    "- Evaluasi jawaban:\n",
    "-- Jika jawabannya adalah \"Ya\", maka:\n",
    "--- Kesimpulan: Menggunakan perintah for i range(1,11): print (i)\n",
    "--- Tindakan: pertimbangan jika ingin menampilkan\n",
    "-- Jika jawabannya adalah \"Tidak\", maka:\n",
    "--- Kesimpulan: Tidak menggunakan perintah for i range(1,11): print (i)\n",
    "Selesai - Proses selesai, lanjutkan dengan aktivitas lain.\n",
    "\n",
    "\"\"\""
   ]
  },
  {
   "cell_type": "code",
   "execution_count": null,
   "id": "93cdda36-f71b-4995-a92f-b5682f5246f6",
   "metadata": {},
   "outputs": [],
   "source": [
    "# Jelaskan  Kesimpulan dari Pertemuan kali ini Dengan Format Markdown, Min.3 Baris\n",
    "# Note: nilai plus buat yang masukkan gambar, visualisasi penjelasan, dan table penjelasan"
   ]
  },
  {
   "attachments": {},
   "cell_type": "markdown",
   "id": "b7aa0a02-2fc2-4534-93a4-39756ac0bded",
   "metadata": {},
   "source": [
    "**Kesimpulan pada pertemuan hari ini**<br>\n",
    "\n",
    "Pada pertemuan hari ini, saya mempelajari tentang Iterasi (Perulangan)<br>\n",
    "Dalam pemrograman ini suatu kode program dieksekusi berulang kali.<br>\n",
    "\n",
    "For = Digunakan melakukan eksekusi  suatu block code berdasarkan rentang tertentu, rentang dalam hal ini berupa angka atau berupa huruf. Peran yang digunakan apabila jumlah perulangannya udh kita ketahui, kita tahu bahwa data ini pake range dan kita sdh mengetahui misal 1 sampai 11<br>\n",
    "<img src=\"1.png\" width=\"200px\">\n",
    "\n",
    "While = Perulangan ini berdasarkan suatu kondisi, misal mencari bilangan yang habis dibagi. Kita tidak mengetahui perulangan yang dilakukan, misal data gede. data ini menggunakan boolean (true/false)<br>\n",
    "<img src=\"2.png\" width=\"200px\">\n",
    "\n",
    "Break = Angka yang kita ingin lompati, ketika suatu kondisi yang bernilai true<br>\n",
    "Continue = Untuk melangkahi/melompati jika perhitungannya yang kita tidak ingin tampilkan ganjil/genap<br>\n",
    "<img src=\"3.png\" width=\"200px\">"
   ]
  },
  {
   "cell_type": "code",
   "execution_count": null,
   "id": "1494e916-1089-4cdc-8d16-d06c5a3c57da",
   "metadata": {},
   "outputs": [],
   "source": []
  }
 ],
 "metadata": {
  "colab": {
   "provenance": []
  },
  "kernelspec": {
   "display_name": "Python 3 (ipykernel)",
   "language": "python",
   "name": "python3"
  },
  "language_info": {
   "codemirror_mode": {
    "name": "ipython",
    "version": 3
   },
   "file_extension": ".py",
   "mimetype": "text/x-python",
   "name": "python",
   "nbconvert_exporter": "python",
   "pygments_lexer": "ipython3",
   "version": "3.12.4"
  },
  "widgets": {
   "application/vnd.jupyter.widget-state+json": {
    "state": {},
    "version_major": 2,
    "version_minor": 0
   }
  }
 },
 "nbformat": 4,
 "nbformat_minor": 5
}
