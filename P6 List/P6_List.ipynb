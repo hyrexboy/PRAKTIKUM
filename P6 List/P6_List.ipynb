{
 "cells": [
  {
   "cell_type": "markdown",
   "id": "b3450a5a-c882-48e6-8aae-8be59018aedb",
   "metadata": {
    "id": "b3450a5a-c882-48e6-8aae-8be59018aedb"
   },
   "source": [
    "# Modul Soal Pertemuan 6 - **List**\n",
    "\n",
    "**Topik:** List dalam Python\n",
    "\n",
    "**Tujuan Pembelajaran:**\n",
    "- Memahami konsep dasar List dalam Python.\n",
    "- Mampu melakukan manipulasi data dalam List menggunakan operasi dan method.\n",
    "- Menggunakan fungsi dan method yang terkait dengan List untuk berbagai aplikasi praktis.\n",
    "\n",
    "---\n",
    "\n",
    "## 1. **Pendahuluan**\n",
    "\n",
    "List adalah salah satu struktur data yang paling sering digunakan dalam Python karena fleksibilitasnya. List dapat menyimpan berbagai jenis data dan memungkinkan kita melakukan berbagai operasi seperti menambah, menghapus, dan mengubah elemen.\n",
    "\n",
    "---\n",
    "\n",
    "## 2. **Pembahasan Singkat Fungsi dan Method pada List**\n",
    "\n",
    "| **No** | **Fungsi/Method**   | **Penjelasan**                                                                                   | **Contoh Kode**                                                                                                                                  |\n",
    "|--------|---------------------|---------------------------------------------------------------------------------------------------|--------------------------------------------------------------------------------------------------------------------------------------------------|\n",
    "| 1      | `len()`              | Menghitung jumlah elemen dalam List.                                                             | ```python len([1, 2, 3])  # Output: 3```                                                                                                         |\n",
    "| 2      | `min()`              | Mengembalikan elemen dengan nilai terkecil (hanya bisa digunakan pada elemen yang bisa dibandingkan). | ```python min([4, 2, 8, 1])  # Output: 1```                                                                                                     |\n",
    "| 3      | `max()`              | Mengembalikan elemen dengan nilai terbesar.                                                      | ```python max([4, 2, 8, 1])  # Output: 8```                                                                                                     |\n",
    "| 4      | `append()`           | Menambahkan elemen baru di akhir List.                                                          | ```python buah = ['apel', 'jeruk'] buah.append('pisang')  # Output: ['apel', 'jeruk', 'pisang']```                                               |\n",
    "| 5      | `insert()`           | Menyisipkan elemen baru pada posisi tertentu dalam List.                                         | ```python buah = ['apel', 'jeruk'] buah.insert(1, 'mangga')  # Output: ['apel', 'mangga', 'jeruk']```                                           |\n",
    "| 6      | `extend()`           | Menggabungkan dua List atau koleksi data lainnya ke akhir List.                                  | ```python buah = ['apel'] sayur = ['bayam'] buah.extend(sayur)  # Output: ['apel', 'bayam']```                                                   |\n",
    "| 7      | `remove()`           | Menghapus elemen pertama yang ditemukan dengan nilai tertentu dari List.                        | ```python buah = ['apel', 'jeruk', 'mangga'] buah.remove('jeruk')  # Output: ['apel', 'mangga']```                                               |\n",
    "| 8      | `pop()`              | Menghapus elemen pada indeks tertentu (default: elemen terakhir) dan mengembalikannya.           | ```python buah = ['apel', 'jeruk', 'mangga'] buah.pop()  # Output: 'mangga'```                                                                  |\n",
    "| 9      | `clear()`            | Menghapus semua elemen dalam List.                                                              | ```python buah = ['apel', 'jeruk'] buah.clear()  # Output: []```                                                                                 |\n",
    "| 10     | `sort()`             | Mengurutkan elemen dalam List secara menaik (secara default).                                   | ```python angka = [5, 2, 9] angka.sort()  # Output: [2, 5, 9]```                                                                                 |\n",
    "| 11     | `reverse()`          | Membalik urutan elemen dalam List.                                                              | ```python angka = [1, 2, 3] angka.reverse()  # Output: [3, 2, 1]```                                                                             |\n",
    "| 12     | `copy()`             | Membuat salinan List baru dari List yang ada.                                                   | ```python buah = ['apel'] buah_copy = buah.copy()  # Output: ['apel']```                                                                         |\n",
    "| 13     | `count()`            | Menghitung jumlah kemunculan elemen tertentu dalam List.                                        | ```python buah = ['apel', 'apel', 'jeruk'] buah.count('apel')  # Output: 2```                                                                   |\n",
    "| 14     | `index()`            | Mengembalikan indeks dari elemen pertama yang ditemukan.                                         | ```python buah = ['apel', 'jeruk'] buah.index('jeruk')  # Output: 1```                                                                          |\n",
    "---\n",
    "\n",
    "## 3. **Soal dan Latihan** \n",
    "**Note:** Gunakan logika pemrograman bukan cuman ngikutin gambar. Baca betul-betul apa yang di intruksikan!!\n",
    "\n"
   ]
  },
  {
   "cell_type": "markdown",
   "id": "a248317e-96f4-4bc7-b72c-5604ae57cab5",
   "metadata": {},
   "source": [
    "### **Soal 1 - Fungsi `len()`, `min()`, dan `max()`**\n",
    "<img src=\"Screenshot (1).png\" alt=\"Deskripsi Gambar\" width=\"450\" style=\"margin-left: 30px;\" />\n",
    "\n",
    "**Instruksi:**\n",
    "1. Buat sebuah List berisi angka NIM dibagi 2 value tiap NIM nya.\n",
    "2. Tampilkan jumlah elemen dalam List, nilai terkecil, dan nilai terbesar.\n",
    "3. Jelaskan code beserta outputnya!"
   ]
  },
  {
   "cell_type": "code",
   "execution_count": 89,
   "id": "b3f87cea-e50a-46fd-820f-bc12703db8da",
   "metadata": {
    "id": "ea6a12c4-1360-4bfe-a05f-4098604926bc"
   },
   "outputs": [
    {
     "name": "stdout",
     "output_type": "stream",
     "text": [
      "Jumlah elemen: 7\n",
      "Nilai terkecil: 7\n",
      "Nilai terbesar: 41\n"
     ]
    }
   ],
   "source": [
    "# Ketikan Code Disini lalu Jalankan (Run)\n",
    "NIM = [24, 11, 10, 24, 41, 22, 7] #input list angka nim yang dibagi 2 value tiap nim nya\n",
    "print(f\"Jumlah elemen: {len(NIM)}\") #code ini menghitung jumlah elemen yang ada didalam list\n",
    "print(f\"Nilai terkecil: {min(NIM)}\") #code ini mengembalikan elemen dengan nilai terkecil\n",
    "print(f\"Nilai terbesar: {max(NIM)}\") #code ini mengembalikan elemen dengan nilai terbesar\n",
    "\n",
    "#output akan menampilkan jumlah elemen yang ada di list, dan mencari nilai terkecil dan nilai terbesar"
   ]
  },
  {
   "cell_type": "markdown",
   "id": "2b0246ff-584f-4484-b52d-18733bcde7ae",
   "metadata": {},
   "source": [
    "### **Soal 2 - Method `append()`, `insert()`, dan `extend()`**\n",
    "<img src=\"Screenshot (2).png\" alt=\"Deskripsi Gambar\" width=\"450\" style=\"margin-left: 30px;\" />\n",
    "\n",
    "**Instruksi:**\n",
    "1. Buatlah List berisi nama-nama kota.\n",
    "2. Tambahkan satu kota baru menggunakan `append()`.\n",
    "3. Sisipkan kota baru di posisi kedua menggunakan `insert()`.\n",
    "4. Gabungkan List kota dengan List negara menggunakan `extend()`.\n",
    "5. Jelaskan code beserta outputnya!"
   ]
  },
  {
   "cell_type": "code",
   "execution_count": 41,
   "id": "a61ed888-46f5-4412-bffe-22824dc41f1e",
   "metadata": {
    "id": "ea6a12c4-1360-4bfe-a05f-4098604926bc"
   },
   "outputs": [
    {
     "name": "stdout",
     "output_type": "stream",
     "text": [
      "['Samarinda', 'Balikpapan', 'Penajam', 'Tenggarong', 'Bontang', 'Indonesia']\n"
     ]
    }
   ],
   "source": [
    "# Ketikan Code Disini lalu Jalankan (Run)\n",
    "kota = [\"Samarinda\", \"Balikpapan\", \"Tenggarong\"]\n",
    "kota.append(\"Bontang\") #code ini menambahkan elemen baru di akhir list\n",
    "kota.insert(2, \"Penajam\") #code ini sisipkan elemen baru pada posisi secara spesifik, dengan menambahkan index (seperti contohnya index 2 itu setelah index 1 sebelum index 3)\n",
    "negara = [\"Indonesia\"]\n",
    "kota.extend(negara) #code ini menggabungkan data list dengan data list yang lain/gabungkan 2 list\n",
    "print(kota)\n",
    "\n",
    "#output akan menampilkan list kota yang kita tulis, menambahkan kota baru yaitu \"bontang\", menambahkan kota \"penajam\" di posisi ke 3, dan menggabunkan data list negara sama kota menjadi 1 data list"
   ]
  },
  {
   "cell_type": "markdown",
   "id": "027609a3-346c-4999-a485-772128a8bb6a",
   "metadata": {},
   "source": [
    "### **Soal 3 - Method `pop()`, `remove()`, dan `clear()`**\n",
    "<img src=\"Screenshot (3).png\" alt=\"Deskripsi Gambar\" width=\"450\" style=\"margin-left: 30px;\" />\n",
    "\n",
    "**Instruksi:**\n",
    "1. Buat sebuah List berisi nama buah.\n",
    "2. Hapus elemen terakhir dari List menggunakan `pop()`.\n",
    "3. Hapus buah tertentu dari List menggunakan `remove()`.\n",
    "4. Kosongkan seluruh List menggunakan `clear()`.\n",
    "5. Jelaskan code beserta outputnya!"
   ]
  },
  {
   "cell_type": "code",
   "execution_count": 93,
   "id": "64ab0c5d-e597-4c67-94f2-4d239e9009b5",
   "metadata": {},
   "outputs": [
    {
     "name": "stdout",
     "output_type": "stream",
     "text": [
      "program pop: ['apel', 'semangka', 'pisang']\n",
      "program remove: ['apel', 'pisang']\n",
      "program clear: []\n",
      "[]\n"
     ]
    }
   ],
   "source": [
    "# Ketikan Code Disini lalu Jalankan (Run)\n",
    "buah = [\"apel\", \"semangka\", \"pisang\", \"durian\"]\n",
    "buah.pop() #code ini menghapus elemen pada indeks yang kita ingin hilangkan (default: elemen terakhir)\n",
    "print(f\"program pop: {buah}\")\n",
    "buah.remove(\"semangka\") #code ini menghapus buah tertentu dari list\n",
    "print(f\"program remove: {buah}\")\n",
    "buah.clear() #code ini akan menghapus semua elemen dalam list\n",
    "print(f\"program clear: {buah}\")\n",
    "print(buah)\n",
    "\n",
    "#output hanya akan menampilkan ['semangka, 'pisang'] karena \"durian\" elemen terakhir dan \"apel\" adalah buah tertentu yang kita pilih untuk di hapus"
   ]
  },
  {
   "cell_type": "markdown",
   "id": "c787923f-618e-435c-9f45-280b9ce74bef",
   "metadata": {},
   "source": [
    "### **Soal 4 - Method `sort()` dan `reverse()`**\n",
    "<img src=\"Screenshot (4).png\" alt=\"Deskripsi Gambar\" width=\"300\" style=\"margin-left: 30px;\" />\n",
    "\n",
    "**Instruksi:**\n",
    "1. Buatlah sebuah List berisi beberapa angka.\n",
    "2. Urutkan List tersebut dalam urutan menaik menggunakan `sort()`.\n",
    "3. Balik urutan List menggunakan `reverse()`.\n",
    "4. Jelaskan code beserta outputnya!\n"
   ]
  },
  {
   "cell_type": "code",
   "execution_count": 124,
   "id": "ea6a12c4-1360-4bfe-a05f-4098604926bc",
   "metadata": {
    "id": "ea6a12c4-1360-4bfe-a05f-4098604926bc"
   },
   "outputs": [
    {
     "name": "stdout",
     "output_type": "stream",
     "text": [
      "[1, 2, 3, 4, 5, 6, 7]\n",
      "[7, 6, 5, 4, 3, 2, 1]\n"
     ]
    }
   ],
   "source": [
    "# Ketikan Code Disini lalu Jalankan (Run)\n",
    "angka = [1, 2, 3, 4, 5, 6, 7]\n",
    "angka.sort() #code ini  mengurutkan elemen dalam list secara menaik\n",
    "print(angka)\n",
    "\n",
    "angka.reverse() #code ini membalik urutan elemen dalam list\n",
    "print(angka)\n",
    "\n",
    "#output akan menampilkan baris pertama elemen yang menaik, dan baris kedua elemen yang membalik urutan/dari belakang"
   ]
  },
  {
   "cell_type": "markdown",
   "id": "ca4c6caa-fb54-453a-bef8-99634775a4f1",
   "metadata": {},
   "source": [
    "### **Soal 5 - Menerapkan Semua Fungsi dan Method**\n",
    "<img src=\"Screenshot (5).png\" alt=\"Deskripsi Gambar\" width=\"450\" style=\"margin-left: 30px;\" />\n",
    "\n",
    "**Instruksi:**\n",
    "1. Buatlah program yang meminta pengguna memasukkan 5 nilai numerik.\n",
    "2. Simpan nilai-nilai tersebut ke dalam List.\n",
    "3. Gunakan:\n",
    "   - `len()` untuk menghitung jumlah elemen.\n",
    "   - `min()` dan `max()` untuk mencari nilai terkecil dan terbesar.\n",
    "   - `append()` untuk menambahkan nilai baru yang diminta dari pengguna.\n",
    "   - `pop()` untuk menghapus elemen terakhir.\n",
    "   - `sort()` untuk mengurutkan nilai-nilai dalam List.\n",
    "4. Tampilkan hasil setelah setiap operasi dan jelaskan code beserta outputnya!.\n",
    "\n"
   ]
  },
  {
   "cell_type": "code",
   "execution_count": 69,
   "id": "f2fd563a-d434-422c-a920-aab426953dbf",
   "metadata": {
    "id": "ea6a12c4-1360-4bfe-a05f-4098604926bc"
   },
   "outputs": [
    {
     "name": "stdin",
     "output_type": "stream",
     "text": [
      "Masukkan nilai ke-1:  11\n",
      "Masukkan nilai ke-2:  12\n",
      "Masukkan nilai ke-3:  13\n",
      "Masukkan nilai ke-4:  14\n",
      "Masukkan nilai ke-5:  15\n"
     ]
    },
    {
     "name": "stdout",
     "output_type": "stream",
     "text": [
      "Jumlah elemen: 5\n",
      "Nilai terkecil: 11\n",
      "Nilai terbesar: 15\n"
     ]
    },
    {
     "name": "stdin",
     "output_type": "stream",
     "text": [
      "Masukkan nilai tambahan:  16\n"
     ]
    },
    {
     "name": "stdout",
     "output_type": "stream",
     "text": [
      "Setelah menambah nilai: [11, 12, 13, 14, 15, 16]\n",
      "Setelah menghapus elemen terakhir: [11, 12, 13, 14, 15]\n",
      "Setelah diurutkan: [11, 12, 13, 14, 15]:\n"
     ]
    }
   ],
   "source": [
    "# Ketikan Code Disini lalu Jalankan (Run)\n",
    "nilai = []\n",
    "for i in range(5): #meminta panggilan output sampai 10 perulangan\n",
    "    angka = int(input(f\"Masukkan nilai ke-{i+1}: \")) #masukkan data integer atau sesuai urutan dari perulangan yang dimulai angka 1\n",
    "    nilai.append(angka)\n",
    "\n",
    "print(f\"Jumlah elemen: {len(nilai)}\") #code len ini menghitung semua jumlah hasil di dalam list ada berapa inputan\n",
    "print(f\"Nilai terkecil: {min(nilai)}\") #untuk melihat nilai terkecil\n",
    "print(f\"Nilai terbesar: {max(nilai)}\") #untuk melihat nilai terbesar\n",
    "\n",
    "nilai_baru = int(input(\"Masukkan nilai tambahan: \")) #masukkan inputan atau elemen terbaru kedalam list awal\n",
    "nilai.append(nilai_baru)  #memasukkan nilai baru ke dalam list\n",
    "print(f\"Setelah menambah nilai: {nilai}\")\n",
    "\n",
    "nilai.pop() #menghapus elemen pada inputan tertentu\n",
    "print(f\"Setelah menghapus elemen terakhir: {nilai}\")\n",
    "\n",
    "nilai.sort() #mengurutkan elemen dalam list\n",
    "print(f\"Setelah diurutkan: {nilai}:\")"
   ]
  },
  {
   "cell_type": "markdown",
   "id": "7b1c0c84-10dc-472e-9ec1-2c43f1ffaeb7",
   "metadata": {},
   "source": [
    "<span style=\"color:red; font-size: 20px;\">\n",
    "<b>Tugas Mandiri </b>\n",
    "</span>\n",
    "\n",
    "1. Buatlah program untuk mengelola daftar belanja menggunakan List, di mana pengguna bisa menambahkan, menghapus, dan melihat item dalam daftar belanja tersebut.\n",
    "2. Implementasikan semua fungsi dan method yang telah dipelajari pada skenario yang lebih relevan dengan aplikasi dunia nyata.\n"
   ]
  },
  {
   "cell_type": "code",
   "execution_count": 15,
   "id": "e9d65228-9b6d-4496-8074-529cdf7e909f",
   "metadata": {
    "id": "ea6a12c4-1360-4bfe-a05f-4098604926bc"
   },
   "outputs": [
    {
     "name": "stdout",
     "output_type": "stream",
     "text": [
      "Selamat Datang di KSPM FEST!\n",
      "1. Tambah Belanja\n",
      "2. Daftar Belanja\n",
      "3. Hapus Belanja\n",
      "4. Selesai\n"
     ]
    },
    {
     "name": "stdin",
     "output_type": "stream",
     "text": [
      "Pilih nomor 1-4:  1\n",
      "Masukkan barang:  Baju\n"
     ]
    },
    {
     "name": "stdout",
     "output_type": "stream",
     "text": [
      " Hasil belanja hari ini: ['Baju']\n",
      "Selamat Datang di KSPM FEST!\n",
      "1. Tambah Belanja\n",
      "2. Daftar Belanja\n",
      "3. Hapus Belanja\n",
      "4. Selesai\n"
     ]
    },
    {
     "name": "stdin",
     "output_type": "stream",
     "text": [
      "Pilih nomor 1-4:  1\n",
      "Masukkan barang:  Celana\n"
     ]
    },
    {
     "name": "stdout",
     "output_type": "stream",
     "text": [
      " Hasil belanja hari ini: ['Baju', 'Celana']\n",
      "Selamat Datang di KSPM FEST!\n",
      "1. Tambah Belanja\n",
      "2. Daftar Belanja\n",
      "3. Hapus Belanja\n",
      "4. Selesai\n"
     ]
    },
    {
     "name": "stdin",
     "output_type": "stream",
     "text": [
      "Pilih nomor 1-4:  1\n",
      "Masukkan barang:  Sepatu\n"
     ]
    },
    {
     "name": "stdout",
     "output_type": "stream",
     "text": [
      " Hasil belanja hari ini: ['Baju', 'Celana', 'Sepatu']\n",
      "Selamat Datang di KSPM FEST!\n",
      "1. Tambah Belanja\n",
      "2. Daftar Belanja\n",
      "3. Hapus Belanja\n",
      "4. Selesai\n"
     ]
    },
    {
     "name": "stdin",
     "output_type": "stream",
     "text": [
      "Pilih nomor 1-4:  2\n"
     ]
    },
    {
     "name": "stdout",
     "output_type": "stream",
     "text": [
      "['Baju', 'Celana', 'Sepatu']\n",
      "Selamat Datang di KSPM FEST!\n",
      "1. Tambah Belanja\n",
      "2. Daftar Belanja\n",
      "3. Hapus Belanja\n",
      "4. Selesai\n"
     ]
    },
    {
     "name": "stdin",
     "output_type": "stream",
     "text": [
      "Pilih nomor 1-4:  3\n",
      "Kurangin apa?:  Sepatu\n"
     ]
    },
    {
     "name": "stdout",
     "output_type": "stream",
     "text": [
      " Hasil belanja hari ini: ['Baju', 'Celana']\n",
      "Selamat Datang di KSPM FEST!\n",
      "1. Tambah Belanja\n",
      "2. Daftar Belanja\n",
      "3. Hapus Belanja\n",
      "4. Selesai\n"
     ]
    },
    {
     "name": "stdin",
     "output_type": "stream",
     "text": [
      "Pilih nomor 1-4:  4\n"
     ]
    },
    {
     "name": "stdout",
     "output_type": "stream",
     "text": [
      " Hasil belanja hari ini: ['Baju', 'Celana'] Terima Kasih!\n"
     ]
    }
   ],
   "source": [
    "# Ketikan Code Disini lalu Jalankan (Run)\n",
    "daftar_belanja = []\n",
    "while True:\n",
    "    print(\"Selamat Datang di KSPM FEST!\")\n",
    "    print(\"1. Tambah Belanja\")\n",
    "    print(\"2. Daftar Belanja\")\n",
    "    print(\"3. Hapus Belanja\")\n",
    "    print(\"4. Selesai\")\n",
    "    i = input(\"Pilih nomor 1-4: \")\n",
    "\n",
    "    if i == \"1\":\n",
    "        barang = input(\"Masukkan barang: \")\n",
    "        daftar_belanja.append(barang)\n",
    "        print(f\" Hasil belanja hari ini: {daftar_belanja}\")\n",
    "\n",
    "    elif i == \"2\":\n",
    "        print(daftar_belanja)\n",
    "\n",
    "    elif i == \"3\":\n",
    "        hapus = input(\"Kurangin apa?: \")\n",
    "        if hapus in daftar_belanja:\n",
    "            daftar_belanja.remove(hapus)\n",
    "            print(f\" Hasil belanja hari ini: {daftar_belanja}\")\n",
    "        else:\n",
    "            print(\"Barang tidak ditemukan\")\n",
    "\n",
    "    elif i == \"4\":\n",
    "        print(f\" Hasil belanja hari ini: {daftar_belanja} Terima Kasih!\")\n",
    "        break"
   ]
  },
  {
   "cell_type": "code",
   "execution_count": 252,
   "id": "d3f2b1cd-c2ba-4d3f-96b8-1b0506d21f1c",
   "metadata": {},
   "outputs": [],
   "source": [
    "# Jelaskan  Kesimpulan dari Pertemuan kali ini Dengan Format Markdown, Min.3 Baris\n",
    "# Note: nilai plus buat yang masukkan gambar, visualisasi penjelasan, dan table penjelasan"
   ]
  },
  {
   "cell_type": "markdown",
   "id": "5d82fc2b-54ce-404b-8389-8e52b0ae3cc8",
   "metadata": {},
   "source": [
    "**Kesimpulan pada hari ini**<br>\n",
    "\n",
    "Pada pertemuan hari ini, mempelajari list dalam Python.<br>\n",
    "\n",
    "List merupakan tipe data yang masuk dalam kategori collection atau koleksi. Tipe data list ini dapat menampung data banyak dan memungkinkan kita melakukan berbagai operasi seperti menambah, menghapus, dan mengubah elemen.<br>\n",
    "List didefinisikan dalam kurung siku (Square Bracket) yakni \"[]\" atau juga dapat didefinisikan dengan menggunakan constructor list().<br>\n",
    "\n",
    "**Method Fungsi**<br>\n",
    "<img src=\"1.png\" width=\"500px\">\n",
    "\n",
    "**Method Menambah**<br>\n",
    "<img src=\"2.png\" width=\"500px\">\n",
    "\n",
    "**Method Menghapus**<br>\n",
    "<img src=\"3.png\" width=\"500px\">\n",
    "\n",
    "**Method Membalikkan**<br>\n",
    "<img src=\"4.png\" width=\"500px\">"
   ]
  },
  {
   "cell_type": "code",
   "execution_count": null,
   "id": "fd3a7e2f-c5cd-49d7-b28d-36e1f56c0be1",
   "metadata": {},
   "outputs": [],
   "source": []
  }
 ],
 "metadata": {
  "colab": {
   "provenance": []
  },
  "kernelspec": {
   "display_name": "Python 3 (ipykernel)",
   "language": "python",
   "name": "python3"
  },
  "language_info": {
   "codemirror_mode": {
    "name": "ipython",
    "version": 3
   },
   "file_extension": ".py",
   "mimetype": "text/x-python",
   "name": "python",
   "nbconvert_exporter": "python",
   "pygments_lexer": "ipython3",
   "version": "3.12.4"
  },
  "widgets": {
   "application/vnd.jupyter.widget-state+json": {
    "state": {},
    "version_major": 2,
    "version_minor": 0
   }
  }
 },
 "nbformat": 4,
 "nbformat_minor": 5
}
