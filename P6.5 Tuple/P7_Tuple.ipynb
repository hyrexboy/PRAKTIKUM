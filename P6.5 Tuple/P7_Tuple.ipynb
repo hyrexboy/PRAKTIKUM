{
 "cells": [
  {
   "cell_type": "markdown",
   "id": "b3450a5a-c882-48e6-8aae-8be59018aedb",
   "metadata": {
    "id": "b3450a5a-c882-48e6-8aae-8be59018aedb"
   },
   "source": [
    "# Modul Soal Pertemuan 7 - **Tuple**\n",
    "\n",
    "**Topik:** Tuple dalam Python\n",
    "\n",
    "**Tujuan Pembelajaran:**\n",
    "- Memahami konsep dasar Tuple dalam Python.\n",
    "- Mengetahui perbedaan antara List dan Tuple.\n",
    "- Mampu menggunakan fungsi dan method yang tersedia untuk Tuple.\n",
    "\n",
    "---\n",
    "\n",
    "## 1. **Pendahuluan**\n",
    "\n",
    "**Tuple** adalah tipe data koleksi seperti List, namun elemen-elemen di dalam Tuple bersifat **immutable** (tidak dapat diubah). Tuple digunakan saat Anda ingin menyimpan data yang tidak akan diubah setelah dideklarasikan.\n",
    "\n",
    "Tuple didefinisikan dengan tanda kurung biasa `( )` dan elemen-elemen di dalamnya dipisahkan oleh koma.\n",
    "\n",
    "### **Contoh:**\n",
    "```python\n",
    "# Membuat Tuple\n",
    "hewan = (\"kucing\", \"anjing\", \"kelinci\")\n",
    "```\n",
    "\n",
    "---\n",
    "\n",
    "## 2. **Tabel Pembahasan Fungsi dan Method pada Tuple**\n",
    "\n",
    "| **No** | **Fungsi/Method**   | **Penjelasan**                                                                                   | **Contoh Kode**                                                                                                                         |\n",
    "|--------|---------------------|---------------------------------------------------------------------------------------------------|-----------------------------------------------------------------------------------------------------------------------------------------|\n",
    "| 1      | `len()`              | Menghitung jumlah elemen dalam Tuple.                                                             | ```python len((1, 2, 3))  # Output: 3```                                                                                                |\n",
    "| 2      | `min()`              | Mengembalikan elemen dengan nilai terkecil (hanya bisa digunakan pada elemen yang bisa dibandingkan). | ```python min((4, 2, 8, 1))  # Output: 1```                                                                                             |\n",
    "| 3      | `max()`              | Mengembalikan elemen dengan nilai terbesar.                                                       | ```python max((4, 2, 8, 1))  # Output: 8```                                                                                             |\n",
    "| 4      | `index()`            | Mengembalikan indeks dari elemen pertama yang ditemukan pada Tuple.                                | ```python hewan = (\"kucing\", \"anjing\") hewan.index(\"anjing\")  # Output: 1```                                                             |\n",
    "| 5      | `count()`            | Menghitung berapa kali elemen tertentu muncul dalam Tuple.                                        | ```python angka = (1, 2, 3, 1, 1) angka.count(1)  # Output: 3```                                                                        |\n",
    "| 6      | Tuple Packing        | Menyimpan beberapa nilai dalam satu variabel dalam bentuk Tuple.                                  | ```python a = 1, 2, 3  # Output: (1, 2, 3)```                                                                                           |\n",
    "| 7      | Tuple Unpacking      | Membongkar Tuple menjadi beberapa variabel.                                                       | ```python a, b, c = (1, 2, 3) print(a, b, c)  # Output: 1 2 3```                                                                        |\n",
    "| 8      | `tuple()`            | Mengonversi koleksi data lain menjadi Tuple.                                                      | ```python tuple([1, 2, 3])  # Output: (1, 2, 3)```                                                                                      |\n",
    "| 9      | Slicing              | Mengambil bagian dari Tuple menggunakan slicing seperti List.                                     | ```python hewan = (\"kucing\", \"anjing\", \"kelinci\") print(hewan[1:])  # Output: ('anjing', 'kelinci')```                                   |\n",
    "| 10     | Immutability         | Tuple tidak dapat diubah setelah dideklarasikan.                                                  | ```python hewan = (\"kucing\", \"anjing\") hewan[0] = \"ular\"  # Output: TypeError: 'tuple' object does not support item assignment```        |\n",
    "\n",
    "---\n",
    "\n",
    "---\n",
    "\n",
    "## 3. **Perbedaan List dan Tuple**\n",
    "\n",
    "| **List**                        | **Tuple**                        |\n",
    "|----------------------------------|----------------------------------|\n",
    "| Elemen **dapat diubah** (mutable). | Elemen **tidak dapat diubah** (immutable). |\n",
    "| Didefinisikan dengan tanda kurung siku `[ ]`. | Didefinisikan dengan tanda kurung biasa `( )`. |\n",
    "| Memiliki lebih banyak method untuk manipulasi data. | Method lebih sedikit karena bersifat immutable. |\n",
    "| Lebih lambat dibandingkan Tuple dalam hal performa. | Lebih cepat dan efisien dalam hal performa. |\n",
    "\n",
    "---\n",
    "\n",
    "## 4. **Soal dan Latihan**\n",
    "**Note:** Gunakan logika pemrograman bukan cuman ngikutin gambar. Baca betul-betul apa yang di intruksikan!!"
   ]
  },
  {
   "cell_type": "markdown",
   "id": "f8f25b2d-716f-4cda-9bca-e01a6d92c80b",
   "metadata": {},
   "source": [
    "### **Soal 1 - Operasi Dasar pada Tuple**\n",
    "**Contoh Kode:**\n",
    "\n",
    "<img src=\"Screenshot (1).png\" alt=\"Deskripsi Gambar\" width=\"450\" style=\"margin-left: 30px;\" />\n",
    "\n",
    "**Instruksi:**\n",
    "1. Buat sebuah Tuple berisi nama-nama mahasiswa.\n",
    "2. Tampilkan jumlah elemen dalam Tuple menggunakan `len()`.\n",
    "3. Cari indeks dari nama tertentu menggunakan `index()`.\n",
    "4. Hitung berapa kali nama tertentu muncul dalam Tuple menggunakan `count()`.\n",
    "---"
   ]
  },
  {
   "cell_type": "code",
   "execution_count": 10,
   "id": "b3f87cea-e50a-46fd-820f-bc12703db8da",
   "metadata": {
    "id": "ea6a12c4-1360-4bfe-a05f-4098604926bc"
   },
   "outputs": [
    {
     "name": "stdout",
     "output_type": "stream",
     "text": [
      "Jumlah mahasiswa: 4\n",
      "Indeks 'Hifzi': 0\n",
      "Jumlah 'Hifzi': 1\n"
     ]
    }
   ],
   "source": [
    "# Ketikan Code Disini lalu Jalankan (Run)\n",
    "mahasiswa = (\"Hifzi\", \"Rofi\", \"Febri\", \"Iqbal\") #tuple menampilkan nama2 mahasiswa\n",
    "print(f\"Jumlah mahasiswa: {len(mahasiswa)}\") #code ini menampilkan jumlah elemen tuple\n",
    "print(f\"Indeks 'Hifzi': {mahasiswa.index('Hifzi')}\") #code ini cari indeks dari nama yang kita tentukan\n",
    "print(f\"Jumlah 'Hifzi': {mahasiswa.count('Hifzi')}\") #code ini menghitung elemen ke berapa dari nama tersebut"
   ]
  },
  {
   "cell_type": "markdown",
   "id": "2b0246ff-584f-4484-b52d-18733bcde7ae",
   "metadata": {},
   "source": [
    "### **Soal 2 - Tuple Packing dan Unpacking**\n",
    "\n",
    "**Contoh Kode:**\n",
    "\n",
    "<img src=\"Screenshot (2).png\" alt=\"Deskripsi Gambar\" width=\"450\" style=\"margin-left: 30px;\" />\n",
    "\n",
    "**Instruksi:**\n",
    "1. Buat program yang menampung nama lengkap dan NIM mahasiswa dalam Tuple.\n",
    "2. Gunakan Tuple Packing untuk menyimpan data.\n",
    "3. Gunakan Tuple Unpacking untuk menampilkan nama dan NIM secara terpisah.\n",
    "\n",
    "\n",
    "---\n",
    "\n"
   ]
  },
  {
   "cell_type": "code",
   "execution_count": 18,
   "id": "a61ed888-46f5-4412-bffe-22824dc41f1e",
   "metadata": {
    "id": "ea6a12c4-1360-4bfe-a05f-4098604926bc"
   },
   "outputs": [
    {
     "name": "stdout",
     "output_type": "stream",
     "text": [
      "Nama: Hifzi Khairi\n",
      "Nim: 2411102441227\n",
      "Universitas: Muhammadiyah Kalimantan Timur\n",
      "Prodi: Teknik Informatika\n"
     ]
    }
   ],
   "source": [
    "# Ketikan Code Disini lalu Jalankan (Run)\n",
    "# Tuple Packing\n",
    "data_mahasiswa = (\"Hifzi Khairi\", \"2411102441227\", \"Muhammadiyah Kalimantan Timur\", \"Teknik Informatika\") #tuple yang berisi nama, nim, universitas, dan prodi\n",
    "\n",
    "# Tuple Unpacking\n",
    "nama, nim, univ, prodi = data_mahasiswa #code ini untuk membongkar beberapa variable\n",
    "print(f\"Nama: {nama}\") #code ini akan menampilkan nama\n",
    "print(f\"Nim: {nim}\") #code ini akan menampilkan nim\n",
    "print(f\"Universitas: {univ}\") #code ini akan menampilkan universitas\n",
    "print(f\"Prodi: {prodi}\") ##code ini akan menampilkan prodi"
   ]
  },
  {
   "cell_type": "markdown",
   "id": "027609a3-346c-4999-a485-772128a8bb6a",
   "metadata": {},
   "source": [
    "### **Soal 3 - Konversi ke Tuple dan Slicing**\n",
    "**Contoh Kode:**\n",
    "\n",
    "<img src=\"Screenshot (3).png\" alt=\"Deskripsi Gambar\" width=\"450\" style=\"margin-left: 30px;\" />\n",
    "\n",
    "**Instruksi:**\n",
    "1. Buatlah program yang mengonversi List menjadi Tuple.\n",
    "2. Tampilkan elemen-elemen tertentu dari Tuple menggunakan slicing.\n",
    "3. Jelaskan code beserta outputnya!\n",
    "---\n"
   ]
  },
  {
   "cell_type": "code",
   "execution_count": 33,
   "id": "ea6a12c4-1360-4bfe-a05f-4098604926bc",
   "metadata": {
    "id": "ea6a12c4-1360-4bfe-a05f-4098604926bc"
   },
   "outputs": [
    {
     "name": "stdout",
     "output_type": "stream",
     "text": [
      "('pisang', 'mangga', 'jeruk')\n"
     ]
    }
   ],
   "source": [
    "# Ketikan Code Disini lalu Jalankan (Run)\n",
    "# Konversi dari List ke Tuple\n",
    "list_buah = [\"durian\", \"apel\", \"pisang\", \"mangga\", \"jeruk\"] #code ini adalah list nama2 buah\n",
    "tuple_buah = tuple(list_buah) #code ini untuk konversi dari list ke tuple\n",
    "\n",
    "# Slicing Tuple\n",
    "print(tuple_buah[2:]) #code ini untuk mengambil bagian dari tuple, jika kita input 2, berarti ada 2 buah yang diambil\n",
    "\n",
    "#ouput hanya akan menampilkan 3 elemen yaitu \"pisang, mangga, jeruk\" kenapa hanya 3? karena kita input Slicing Tuple adalah 2 yang berarti 2 buah nya akan diambil dan sisanya akan ditampilkan yaitu 3"
   ]
  },
  {
   "cell_type": "markdown",
   "id": "b63948ce-0bb1-4efe-90cf-3f3a0ad9b51c",
   "metadata": {},
   "source": [
    "### **Soal 4 - Immutability pada Tuple**\n",
    "**Contoh Kode:**\n",
    "\n",
    "<img src=\"Screenshot (4).png\" alt=\"Deskripsi Gambar\" width=\"450\" style=\"margin-left: 30px;\" />\n",
    "\n",
    "**Instruksi:**\n",
    "1. Buat sebuah Tuple berisi nama-nama kota.\n",
    "2. Coba ubah salah satu elemen dalam Tuple, dan perhatikan error yang terjadi.\n",
    "3. Jelaskan mengapa Tuple tidak bisa diubah.\n",
    "\n",
    "\n",
    "\n",
    "---\n"
   ]
  },
  {
   "cell_type": "code",
   "execution_count": 53,
   "id": "6def281a-5cfc-46d7-9f31-dd7eb60a23f0",
   "metadata": {
    "id": "ea6a12c4-1360-4bfe-a05f-4098604926bc"
   },
   "outputs": [
    {
     "name": "stdout",
     "output_type": "stream",
     "text": [
      "('Samarinda', 'Balikpapan', 'Tenggarong', 'Bontang')\n"
     ]
    }
   ],
   "source": [
    "# Ketikan Code Disini lalu Jalankan (Run)\n",
    "kota = (\"Samarinda\", \"Balikpapan\", \"Tenggarong\") #tuple nama2 kota\n",
    "#elemen_baru = (\"Bontang\") #elemen baru yang ingin ditambahkan\n",
    "kota_baru = kota + (\"Bontang\",) #tuple baru dengan menambahkan tuple awal ditambahkan elemen baru yang di inginkan\n",
    "print(kota_baru)"
   ]
  },
  {
   "cell_type": "code",
   "execution_count": 55,
   "id": "10525025-5e24-4e94-96ec-7d1733c64339",
   "metadata": {},
   "outputs": [
    {
     "ename": "TypeError",
     "evalue": "'tuple' object does not support item assignment",
     "output_type": "error",
     "traceback": [
      "\u001b[1;31m---------------------------------------------------------------------------\u001b[0m",
      "\u001b[1;31mTypeError\u001b[0m                                 Traceback (most recent call last)",
      "Cell \u001b[1;32mIn[55], line 2\u001b[0m\n\u001b[0;32m      1\u001b[0m kota \u001b[38;5;241m=\u001b[39m (\u001b[38;5;124m\"\u001b[39m\u001b[38;5;124mSamarinda\u001b[39m\u001b[38;5;124m\"\u001b[39m, \u001b[38;5;124m\"\u001b[39m\u001b[38;5;124mBalikpapan\u001b[39m\u001b[38;5;124m\"\u001b[39m, \u001b[38;5;124m\"\u001b[39m\u001b[38;5;124mTenggarong\u001b[39m\u001b[38;5;124m\"\u001b[39m)\n\u001b[1;32m----> 2\u001b[0m kota[\u001b[38;5;241m0\u001b[39m] \u001b[38;5;241m=\u001b[39m \u001b[38;5;124m\"\u001b[39m\u001b[38;5;124mBontang\u001b[39m\u001b[38;5;124m\"\u001b[39m\n",
      "\u001b[1;31mTypeError\u001b[0m: 'tuple' object does not support item assignment"
     ]
    }
   ],
   "source": [
    "kota = (\"Samarinda\", \"Balikpapan\", \"Tenggarong\")\n",
    "kota[0] = \"Bontang\"\n",
    "\n",
    "#kenapa error?\n",
    "#karena immutable tidak dapat diubah setelah dideklarasikan, untuk menambahkan elemen baru kita harus membuat tuple baru yang dimana ditambahkan dengan tuple awal lalu ditambahkan dengan elemen yang kita inginkan, lalu print elemen yang baru"
   ]
  },
  {
   "cell_type": "code",
   "execution_count": null,
   "id": "93cdda36-f71b-4995-a92f-b5682f5246f6",
   "metadata": {},
   "outputs": [],
   "source": [
    "# Jelaskan  Kesimpulan dari Pertemuan kali ini Dengan Format Markdown, Min.3 Baris\n",
    "# Note: nilai plus buat yang masukkan gambar, visualisasi penjelasan, dan table penjelasan"
   ]
  },
  {
   "cell_type": "markdown",
   "id": "1aae899a-a7d0-46cb-b1b9-2dbe23a888db",
   "metadata": {},
   "source": [
    "**Kesimpulan pada hari ini**<br>\n",
    "\n",
    "### Pada pertemuan hari ini, mempelajari Tuple Tuple. juga merupakan suatu collection sama dengan List, namun yang membedakan keduanya ialah elemen di dalam Tuple bersifat/tidak dapat diubah (Immutable). Tuple memiliki format yang simple, jika List menggunakan kurung siku “[]” maka Tuple ini menggunakan kurung “( )”. Untuk Immutability Tuple ada tuple yang tidak dapat diubah setelah dideklarasikan, untuk diubahnya dengan cara menambahkan elemen baru, lalu kita harus membuat tuple baru ditambahkan dengan tuple awal lalu ditambahkan dengan elemen yang baru yang kita inginkan. ###\n",
    "\n",
    "**Operasi pada Tuple**<br>\n",
    "<img src=\"1.png\" width=\"500px\">\n",
    "\n",
    "**Immutability pada Tuple**<br>\n",
    "<img src=\"2.png\" width=\"500px\">"
   ]
  },
  {
   "cell_type": "code",
   "execution_count": null,
   "id": "ef547754-9cc5-4eba-b35e-a058b2268470",
   "metadata": {},
   "outputs": [],
   "source": []
  }
 ],
 "metadata": {
  "colab": {
   "provenance": []
  },
  "kernelspec": {
   "display_name": "Python 3 (ipykernel)",
   "language": "python",
   "name": "python3"
  },
  "language_info": {
   "codemirror_mode": {
    "name": "ipython",
    "version": 3
   },
   "file_extension": ".py",
   "mimetype": "text/x-python",
   "name": "python",
   "nbconvert_exporter": "python",
   "pygments_lexer": "ipython3",
   "version": "3.12.4"
  },
  "widgets": {
   "application/vnd.jupyter.widget-state+json": {
    "state": {},
    "version_major": 2,
    "version_minor": 0
   }
  }
 },
 "nbformat": 4,
 "nbformat_minor": 5
}
