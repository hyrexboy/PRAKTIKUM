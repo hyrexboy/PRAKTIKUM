{
 "cells": [
  {
   "cell_type": "markdown",
   "id": "b3450a5a-c882-48e6-8aae-8be59018aedb",
   "metadata": {
    "id": "b3450a5a-c882-48e6-8aae-8be59018aedb"
   },
   "source": [
    "# Pertemuan 3: Tipe Data Dasar\n",
    "\n",
    "Pada pertemuan ini, kita akan membahas beberapa tipe data dasar yang sering digunakan dalam pemrograman Python. Di antaranya adalah:\n",
    "\n",
    "1. **Tipe Data Numerik**: `int`, `float`, `complex`\n",
    "2. **Fungsi pada Data Numerik**: fungsi bawaan Python seperti `abs()`, `pow()`, `round()`, dll.\n",
    "3. **Tipe Data String**: Tipe data untuk menyimpan teks\n",
    "4. **Method pada String**: Method yang dapat digunakan pada string seperti `.lower()`, `.upper()`, `.replace()`, dll.\n",
    "5. **String Formatting**: Format string menggunakan `f-string`, `.format()`\n",
    "6. **Type Casting**: Mengubah tipe data dari satu tipe ke tipe lainnya\n",
    "Berikut adalah penjabaran materi pertemuan 3 dalam format tabel, yang mencakup **Tipe Data Numerik**, **Fungsi pada Data Numerik**, **Tipe Data String**, **Method String**, **String Formatting**, dan **Type Casting**.\n",
    "\n",
    "| **Materi**            | **Penjelasan**                                                                                                                                                      | **Contoh**                                                                                                                                                 |\n",
    "|-----------------------|---------------------------------------------------------------------------------------------------------------------------------------------------------------------|------------------------------------------------------------------------------------------------------------------------------------------------------------|\n",
    "| **Tipe Data Numerik**  | Tipe data untuk menyimpan nilai numerik dalam Python, seperti `int` (bilangan bulat), `float` (bilangan desimal), dan `complex` (bilangan kompleks).                  | ```python angka1 = 5  # int angka2 = 3.14  # float angka3 = 2 + 3j  # complex ```                                                                           |\n",
    "| **Fungsi pada Data Numerik** | Fungsi bawaan Python untuk mengoperasikan angka seperti `abs()`, `pow()`, `round()`, dll.                                                                       | ```python abs(-10)  # Hasil: 10 pow(2, 3)  # Hasil: 8 round(3.14159, 2)  # Hasil: 3.14 ```                                                                  |\n",
    "| **Tipe Data String**   | Tipe data yang menyimpan teks atau karakter. String biasanya diapit oleh tanda kutip tunggal (`'...'`) atau ganda (`\"...\"`).                                         | ```python teks = \"Hello World!\" ```                                                                                                                         |\n",
    "| **Method String**      | Fungsi yang dapat digunakan pada tipe data string seperti `lower()`, `upper()`, `title()`, dan `replace()`.                                                          | ```python teks.lower()  # Hasil: \"hello world\" teks.upper()  # Hasil: \"HELLO WORLD\" teks.title()  # Hasil: \"Hello World\" ```                                 |\n",
    "| **String Formatting**  | Teknik untuk menyisipkan variabel atau nilai ke dalam string. Python menyediakan beberapa metode, termasuk `f-string` dan `.format()`.                                | ```python nama = \"Aisyah\" umur = 21 print(f\"Halo, {nama}! Usia Anda {umur} tahun.\") print(\"Halo, {}! Usia Anda {} tahun.\".format(nama, umur)) ```           |\n",
    "| **Type Casting**       | Mengubah tipe data dari satu tipe ke tipe lainnya. Fungsi umum termasuk `int()`, `float()`, dan `str()`.                                                             | ```python angka = \"10\"  # string angka_numerik = int(angka)  # mengubah string ke integer ```                                                               |\n",
    "\n",
    "### Tipe Data Numerik\n",
    "\n",
    "| **Tipe Data** | **Penjelasan**                                | **Contoh**       |\n",
    "|---------------|-----------------------------------------------|------------------|\n",
    "| `int`         | Bilangan bulat                                | `x = 10`         |\n",
    "| `float`       | Bilangan desimal                              | `x = 10.5`       |\n",
    "| `complex`     | Bilangan kompleks (memiliki bagian imajiner)  | `x = 2 + 3j`     |\n",
    "\n",
    "### Fungsi pada Data Numerik\n",
    "\n",
    "| **Fungsi**    | **Penjelasan**                                | **Contoh**                                |\n",
    "|---------------|-----------------------------------------------|-------------------------------------------|\n",
    "| `abs(x)`      | Mengembalikan nilai absolut dari x             | `abs(-10)` hasil: `10`                    |\n",
    "| `pow(x, y)`   | Mengembalikan hasil pangkat x^y                | `pow(2, 3)` hasil: `8`                    |\n",
    "| `round(x, n)` | Membulatkan angka x ke n digit desimal         | `round(3.14159, 2)` hasil: `3.14`         |\n",
    "\n",
    "### Tipe Data String\n",
    "\n",
    "| **Tipe Data** | **Penjelasan**                                | **Contoh**        |\n",
    "|---------------|-----------------------------------------------|-------------------|\n",
    "| `str`         | Tipe data untuk menyimpan teks atau karakter  | `x = \"Hello\"`     |\n",
    "\n",
    "### Method pada String\n",
    "\n",
    "| **Method**    | **Penjelasan**                                | **Contoh**                                  |\n",
    "|---------------|-----------------------------------------------|---------------------------------------------|\n",
    "| `upper()`     | Mengubah semua karakter string menjadi huruf besar | `\"hello\".upper()` hasil: `\"HELLO\"`          |\n",
    "| `lower()`     | Mengubah semua karakter string menjadi huruf kecil | `\"HELLO\".lower()` hasil: `\"hello\"`          |\n",
    "| `title()`     | Mengubah huruf pertama dari setiap kata menjadi huruf kapital | `\"hello world\".title()` hasil: `\"Hello World\"` |\n",
    "| `replace(a, b)`| Mengganti karakter atau substring a dengan b | `\"hello\".replace(\"h\", \"j\")` hasil: `\"jello\"`|\n",
    "\n",
    "### String Formatting\n",
    "\n",
    "| **Metode**    | **Penjelasan**                                | **Contoh**                                                                 |\n",
    "|---------------|-----------------------------------------------|----------------------------------------------------------------------------|\n",
    "| `f-string`    | Menggunakan string literal yang mendukung ekspresi di dalam `{}` | `f\"Nama saya {nama}, umur saya {umur}.\"`                                   |\n",
    "| `.format()`   | Memformat string dengan menyisipkan variabel di dalam placeholder `{}` | `\"Nama saya {}, umur saya {}.\".format(nama, umur)`                         |\n",
    "\n",
    "### Type Casting (Konversi Tipe Data)\n",
    "\n",
    "| **Fungsi**    | **Penjelasan**                                | **Contoh**                                |\n",
    "|---------------|-----------------------------------------------|-------------------------------------------|\n",
    "| `int(x)`      | Mengubah x menjadi integer                    | `int(\"10\")` hasil: `10`                  |\n",
    "| `float(x)`    | Mengubah x menjadi float                      | `float(\"10.5\")` hasil: `10.5`            |\n",
    "| `str(x)`      | Mengubah x menjadi string                     | `str(10)` hasil: `\"10\"`                  |\n",
    "\n",
    "### Contoh Soal\n",
    "\n",
    "1. **Tipe Data Numerik:**\n",
    "   Buatlah program yang menerima dua input angka, lalu hitung penjumlahan, pengurangan, perkalian, dan pembagian.\n",
    "\n",
    "2. **Fungsi pada Data Numerik:**\n",
    "   Gunakan fungsi `pow()`, `abs()`, dan `round()` untuk mengolah data numerik.\n",
    "\n",
    "3. **Tipe Data String dan Method String:**\n",
    "   Buat program yang meminta nama pengguna lalu ubah menjadi huruf besar, kecil, dan kapital pada setiap kata.\n",
    "\n",
    "4. **String Formatting:**\n",
    "   Gunakan `f-string` dan `.format()` untuk menampilkan informasi nama dan usia.\n",
    "\n",
    "5. **Type Casting:**\n",
    "   Minta input angka dalam bentuk string, lalu ubah ke tipe numerik (`int` atau `float`) dan tampilkan hasil konversinya.\n",
    "---\n",
    "\n",
    "**Catatan:** Pastikan Anda memahami tiap materi sebelum mengerjakan soal. Gunakan dokumentasi Python jika diperlukan."
   ]
  },
  {
   "attachments": {},
   "cell_type": "markdown",
   "id": "e989c82b-4c5e-4eaf-9152-4a4c9a494b65",
   "metadata": {},
   "source": [
    "## Soal 1: Operasi Aritmatika pada Tipe Data Numerik\n",
    "\n",
    "### Contoh Program yang Salah:\n",
    "<img src=\"Screenshot (1).png\" alt=\"Deskripsi Gambar\" width=\"550\" style=\"margin-left: 30px;\" />\n",
    "\n",
    "\n",
    "### Tugas Anda:\n",
    "1. **Perbaiki** kesalahan program di atas. Beberapa kesalahan yang harus diperbaiki antara lain:\n",
    "   - Kesalahan nama variabel (`angka1` seharusnya `angka_1`).\n",
    "   - Kesalahan operator pembagian (gunakan `/` untuk pembagian float, bukan `//`).\n",
    "   - Perbaiki format string pada `print()` agar hasil operasi benar-benar ditampilkan.\n",
    "   - Pastikan hasil pembagian dibulatkan dengan benar.\n",
    "\n",
    "2. Gunakan dua angka dari 3 digit terakhir NIM Anda sebagai input untuk menjalankan program.\n",
    "\n",
    "3. Program yang telah diperbaiki harus:\n",
    "   - Menampilkan hasil penjumlahan, pengurangan, perkalian, dan pembagian dari kedua angka.\n",
    "   - Menampilkan hasil pemangkatan angka pertama terhadap angka kedua.\n",
    "   - Menghitung nilai maksimum dan minimum dari kedua angka.\n",
    "   - Membulatkan hasil pembagian ke dua angka di belakang koma.\n",
    "4. Jelaskan Program yang anda perbaiki"
   ]
  },
  {
   "cell_type": "code",
   "execution_count": 29,
   "id": "b4beb5da-51a9-47ff-a732-d6cf9247ae74",
   "metadata": {
    "id": "ea6a12c4-1360-4bfe-a05f-4098604926bc"
   },
   "outputs": [
    {
     "name": "stdin",
     "output_type": "stream",
     "text": [
      "masukkan angka:  2\n",
      "masukkan angka:  7\n"
     ]
    },
    {
     "name": "stdout",
     "output_type": "stream",
     "text": [
      "hasil pertambahan: {9.0}\n",
      "hasil pengurangan: {0.0}\n",
      "hasil perkalian: {4.0}\n",
      "hasil pembagian: {1.0}\n",
      "hasil pangkat: {4.0}\n",
      "hasil maximum: {7.0}\n",
      "hasil minimum: {2.0}\n",
      "hasil pembagian dibulatkan dua angka: 1.0\n"
     ]
    }
   ],
   "source": [
    "# Ketikan Code Disini lalu Jalankan (Run)\n",
    "angka_1 = float(input(\"masukkan angka: \"))\n",
    "angka_2 = float(input(\"masukkan angka: \"))\n",
    "\n",
    "penjumlahan = angka_1 + angka_2 #variabel angka1 seharusnya menjadi angka_2\n",
    "pengurangan = angka_1 - angka_1\n",
    "perkalian = angka_1 * angka_1\n",
    "pembagian = angka_1 / angka_1 #pada operator pembagian yang double\n",
    "pangkat = angka_1 ** angka_1\n",
    "\n",
    "maximum = max(angka_1, angka_2)\n",
    "minimum = min(angka_1, angka_2)\n",
    "pembagian_rounded = round(pembagian, 2)\n",
    "\n",
    "print(f\"hasil pertambahan:\", {penjumlahan})\n",
    "print(f\"hasil pengurangan:\", {pengurangan})\n",
    "print(f\"hasil perkalian:\", {perkalian})\n",
    "print(f\"hasil pembagian:\", {pembagian})\n",
    "print(f\"hasil pangkat:\", {pangkat})\n",
    "print(f\"hasil maximum:\", {maximum})\n",
    "print(f\"hasil minimum:\", {minimum})\n",
    "print(f\"hasil pembagian dibulatkan dua angka:\", (pembagian_rounded))"
   ]
  },
  {
   "cell_type": "markdown",
   "id": "28e24639-72f7-4d78-8169-b805c5bee744",
   "metadata": {},
   "source": [
    "## Soal 2: Fungsi pada Data Numerik\n",
    "\n",
    "### Contoh Program yang Salah:\n",
    "<img src=\"Screenshot (2).png\" alt=\"Deskripsi Gambar\" width=\"450\" style=\"margin-left: 30px;\" />\n",
    "\n",
    "\n",
    "### Tugas Anda:\n",
    "1. **Perbaiki** kesalahan program di atas. Anda harus menginisialisasi nilai `angka1` dan `angka2` menggunakan input dari pengguna (seperti yang telah dijelaskan pada soal sebelumnya).\n",
    "2. Gunakan dua angka dari 3 digit terakhir NIM Anda sebagai input untuk menjalankan program.\n",
    "3. Gunakan fungsi bawaan Python:\n",
    "   - Gunakan `pow(angka1, angka2)` untuk menghitung hasil pemangkatan.\n",
    "   - Gunakan `abs(angka1)` untuk menghitung nilai absolut dari angka pertama.\n",
    "   - Gunakan `round(angka2, 2)` untuk membulatkan angka kedua hingga dua angka di belakang koma.\n",
    "   \n",
    "4. **Tampilkan hasilnya** dalam format yang sesuai.\n",
    "5. Jelaskan Program yang anda perbaiki\n",
    "\n",
    "### Contoh Input:\n",
    "```\n",
    "Masukkan angka pertama: -5.67\n",
    "Masukkan angka kedua: 3.14159\n",
    "```\n",
    "\n",
    "### Contoh Output:\n",
    "```\n",
    "Hasil Pangkat: -181.85835692800002\n",
    "Nilai Absolut: 5.67\n",
    "Hasil Pembulatan: 3.14\n",
    "```\n",
    "\n",
    "### Penjelasan:\n",
    "1. **Input**: Program akan meminta dua angka dari pengguna.\n",
    "2. **pow(angka1, angka2)**: Fungsi ini menghitung angka1 pangkat angka2.\n",
    "3. **abs(angka1)**: Fungsi ini menghitung nilai absolut (nilai positif) dari angka pertama.\n",
    "4. **round(angka2, 2)**: Fungsi ini membulatkan angka kedua hingga dua angka di belakang koma.\n",
    "```"
   ]
  },
  {
   "cell_type": "code",
   "execution_count": 27,
   "id": "b3f87cea-e50a-46fd-820f-bc12703db8da",
   "metadata": {
    "id": "ea6a12c4-1360-4bfe-a05f-4098604926bc"
   },
   "outputs": [
    {
     "name": "stdin",
     "output_type": "stream",
     "text": [
      "masukkan angka minus -1.27\n",
      "masukkan angka koma 1.227\n"
     ]
    },
    {
     "name": "stdout",
     "output_type": "stream",
     "text": [
      "hasil pangkat {(-1.0140683464497018-0.8771751399394444j)}\n",
      "hasil absolut {1.27}\n",
      "hasil pembulatan {1.23}\n"
     ]
    }
   ],
   "source": [
    "# Ketikan Code Disini lalu Jalankan (Run)\n",
    "#Menghitung Pangkat\n",
    "angka1 = float(input(\"masukkan angka minus\"))\n",
    "angka2 = float(input(\"masukkan angka koma\"))\n",
    "\n",
    "hasil_pangkat = pow(angka1, angka2)\n",
    "hasil_absolut = abs(angka1)\n",
    "pembulatan = round(angka2, 2)\n",
    "\n",
    "print(f\"hasil pangkat\", {hasil_pangkat}) #masukkan f string dan ubah format jadi placeholder\n",
    "print(f\"hasil absolut\", {hasil_absolut})\n",
    "print(f\"hasil pembulatan\", {pembulatan})"
   ]
  },
  {
   "cell_type": "markdown",
   "id": "04451d75-fd5c-418f-b2b3-bfe3ca35497d",
   "metadata": {},
   "source": [
    "## Soal 3: Tipe Data String dan Method String\n",
    "\n",
    "### Tugas Anda:\n",
    "Buatlah program yang:\n",
    "1. Meminta input nama lengkap dari pengguna.\n",
    "2. Mengubah nama lengkap tersebut menjadi:\n",
    "   - Huruf kapital semua (`upper()`).\n",
    "   - Huruf kecil semua (`lower()`).\n",
    "   - Huruf kapital di setiap awal kata (`title()`).\n",
    "3. Hitung berapa banyak karakter yang ada di nama lengkap pengguna (termasuk spasi) menggunakan fungsi `len()`.\n",
    "\n",
    "### Contoh Input:\n",
    "```\n",
    "Masukkan nama lengkap Anda: Budi Prasetyo\n",
    "```\n",
    "\n",
    "### Contoh Output:\n",
    "```\n",
    "Nama dalam huruf kapital: BUDI PRASETYO\n",
    "Nama dalam huruf kecil: budi prasetyo\n",
    "Nama dengan huruf kapital di setiap kata: Budi Prasetyo\n",
    "Jumlah karakter dalam nama: 12\n",
    "```\n",
    "\n",
    "### Penjelasan:\n",
    "1. **Input**: Program akan meminta pengguna untuk memasukkan nama lengkap.\n",
    "2. **Mengubah huruf kapital/kecil**:\n",
    "   - Gunakan `upper()` untuk mengubah semua huruf menjadi huruf kapital.\n",
    "   - Gunakan `lower()` untuk mengubah semua huruf menjadi huruf kecil.\n",
    "   - Gunakan `title()` untuk mengubah setiap kata menjadi huruf kapital pada huruf pertama.\n",
    "3. **Menghitung jumlah karakter**: Gunakan fungsi `len()` untuk menghitung jumlah karakter termasuk spasi.\n",
    "```"
   ]
  },
  {
   "cell_type": "code",
   "execution_count": 11,
   "id": "75357d06-3bb8-4b42-94cf-f4b2be24a792",
   "metadata": {
    "id": "ea6a12c4-1360-4bfe-a05f-4098604926bc"
   },
   "outputs": [
    {
     "name": "stdin",
     "output_type": "stream",
     "text": [
      "masukkan nama Hifzi Khairi\n"
     ]
    },
    {
     "name": "stdout",
     "output_type": "stream",
     "text": [
      "HIFZI KHAIRI\n",
      "hifzi khairi\n",
      "Hifzi Khairi\n",
      "12\n"
     ]
    }
   ],
   "source": [
    "# Ketikan Code Disini lalu Jalankan (Run)\n",
    "nama = input(\"masukkan nama\") #masukkan input\n",
    "\n",
    "print(nama.upper())\n",
    "print(nama.lower())\n",
    "print(nama.title())\n",
    "print(len(nama))"
   ]
  },
  {
   "cell_type": "markdown",
   "id": "2b0246ff-584f-4484-b52d-18733bcde7ae",
   "metadata": {},
   "source": [
    "## Soal 4: Formatting String\n",
    "\n",
    "### Tugas Anda:\n",
    "Buatlah program yang:\n",
    "1. Meminta input nama nim dan umur dari pengguna.\n",
    "2. Menampilkan kalimat berikut menggunakan **dua metode string formatting**:\n",
    "   - \"Assalamualaikum, Hai. Nama ulun [Nama] dengan NIM [NIM]! Usia saya adalah [Umur] tahun.\"\n",
    "3. Jelaskan code anda.\n",
    "### Dua metode string formatting yang harus digunakan:\n",
    "1. **f-string**: Cara yang lebih modern dan mudah dibaca untuk memformat string.\n",
    "2. **.format()**: Cara yang lebih lama tetapi tetap sering digunakan untuk memformat string.\n",
    "\n",
    "### Contoh Input:\n",
    "```\n",
    "Masukkan nama Anda: Ahmad\n",
    "Masukkan NIM Anda: 211112123123\n",
    "Masukkan umur Anda: 21\n",
    "```\n",
    "\n",
    "### Contoh Output:\n",
    "```\n",
    "Assalamualaikum, Hai. Nama ulun Ahmad dengan NIM 211112123123! Usia saya adalah 21 tahun.  # menggunakan f-string\n",
    "Assalamualaikum, Hai. Nama ulun Ahmad dengan NIM 211112123123! Usia saya adalah 21 tahun.  # menggunakan .format()\n",
    "```\n",
    "\n",
    "### Penjelasan Jawaban:\n",
    "- **f-string**: String yang dimulai dengan `f` di depan kutip, memungkinkan kita untuk langsung menyisipkan variabel ke dalam string menggunakan kurung kurawal `{}`.\n",
    "- **.format()**: Metode `format()` menggunakan placeholder `{}` dalam string, dan variabel dimasukkan ke dalam placeholder sesuai urutan yang ditentukan dalam `format()`."
   ]
  },
  {
   "cell_type": "code",
   "execution_count": 13,
   "id": "a61ed888-46f5-4412-bffe-22824dc41f1e",
   "metadata": {
    "id": "ea6a12c4-1360-4bfe-a05f-4098604926bc"
   },
   "outputs": [
    {
     "name": "stdin",
     "output_type": "stream",
     "text": [
      "masukkan nama Hifzi Khairi\n",
      "masukkan nim 2411102441227\n",
      "masukkan umur 18\n"
     ]
    },
    {
     "name": "stdout",
     "output_type": "stream",
     "text": [
      "Assalamualaikum, Hai. Nama ulun Hifzi Khairi dengan NIM 2411102441227! Usia saya adalah 18 tahun.\n",
      "Assalamualaikum, Hai. Nama ulun Hifzi Khairi dengan NIM 2411102441227! Usia saya adalah 18 tahun.\n"
     ]
    }
   ],
   "source": [
    "# Ketikan Code Disini lalu Jalankan (Run)\n",
    "saya = input(\"masukkan nama\") #disini kita masukkan input\n",
    "nim =  input(\"masukkan nim\")\n",
    "umur = input(\"masukkan umur\")\n",
    "\n",
    "print(f\"Assalamualaikum, Hai. Nama ulun {saya} dengan NIM {nim}! Usia saya adalah {umur} tahun.\") #masukkan variabel ke dalam placeholder\n",
    "print(\"Assalamualaikum, Hai. Nama ulun {} dengan NIM {}! Usia saya adalah {} tahun.\".format(saya,nim,umur))"
   ]
  },
  {
   "cell_type": "markdown",
   "id": "027609a3-346c-4999-a485-772128a8bb6a",
   "metadata": {},
   "source": [
    "## Soal 5: Type Casting\n",
    "\n",
    "### Program yang Harus diperbaiki:\n",
    "<img src=\"Screenshot (3).png\" alt=\"Deskripsi Gambar\" width=\"450\" style=\"margin-left: 30px;\" />\n",
    "\n",
    "### Tugas Anda:\n",
    "Buatlah program yang:\n",
    "1. Perbaiki Program diatas.\n",
    "2. Meminta input sebuah angka dalam bentuk string dari pengguna.\n",
    "3. Menampilkan tipe data dari input sebelum diubah.\n",
    "4. Mengubah string tersebut menjadi tipe data numerik (`int` atau `float`), dan menampilkan tipe data setelah diubah.\n",
    "5. Jelaskan Program yang telah anda perbaiki!\n",
    "\n",
    "### Contoh Input:\n",
    "```\n",
    "Masukkan sebuah angka: 45.67\n",
    "```\n",
    "\n",
    "### Contoh Output:\n",
    "```\n",
    "Tipe data sebelum diubah: <class 'str'>\n",
    "Tipe data setelah diubah: <class 'float'>\n",
    "Angka setelah diubah: 45.67\n",
    "```\n",
    "\n",
    "### Penjelasan Jawaban:\n",
    "- **Input sebagai string**: Saat pengguna memasukkan angka melalui fungsi `input()`, angka tersebut dianggap sebagai string.\n",
    "- **Type Casting ke float**: String diubah menjadi tipe data `float` menggunakan `float()`.\n",
    "- **Menampilkan tipe data**: Fungsi `type()` digunakan untuk menampilkan tipe data sebelum dan setelah diubah.\n",
    "- **Output angka**: Selain menampilkan tipe datanya, angka yang sudah diubah juga ditampilkan.\n"
   ]
  },
  {
   "cell_type": "code",
   "execution_count": 31,
   "id": "ea6a12c4-1360-4bfe-a05f-4098604926bc",
   "metadata": {
    "id": "ea6a12c4-1360-4bfe-a05f-4098604926bc"
   },
   "outputs": [
    {
     "name": "stdin",
     "output_type": "stream",
     "text": [
      "masukkan angka 12.27\n"
     ]
    },
    {
     "name": "stdout",
     "output_type": "stream",
     "text": [
      "Tipe data sebelum diubah: <class 'str'>\n",
      "Tipe data sesudah diubah: <class 'float'>\n",
      "angka setelah diubah {12.27}\n"
     ]
    }
   ],
   "source": [
    "# Ketikan Code Disini lalu Jalankan (Run)\n",
    "angkaString = input(\"masukkan angka\")\n",
    "\n",
    "print(f\"Tipe data sebelum diubah: {type(angkaString)}\")\n",
    "\n",
    "angkaNumerik = float(angkaString)\n",
    "\n",
    "print(f\"Tipe data sesudah diubah: {type(angkaNumerik)}\") #buat tipe data sesudah dengan f string\n",
    "\n",
    "print(\"angka setelah diubah\", {angkaNumerik})"
   ]
  },
  {
   "cell_type": "code",
   "execution_count": null,
   "id": "b54abe5c-314e-4f9a-8af8-5f3a371bd786",
   "metadata": {},
   "outputs": [],
   "source": [
    "# Tugas Mandiri (latihan membuat alur teks program)\n",
    "## Buatlah program dengan alur yang anda bikin sesuai materi diatas\n",
    "## Dimulai dari alur teks (Algoritma Informal)\n",
    "\"\"\"\n",
    "Contoh sederhana dari sebuah algoritma informal yang menjelaskan bagaimana menentukan apakah sebuah angka adalah positif, negatif, atau nol:\n",
    "\n",
    "- Mulai - Mulai proses.\n",
    "- Baca angka - Ambil sebuah angka dari pengguna.\n",
    "- Periksa angka tersebut:\n",
    "- - Jika angka itu lebih besar dari nol, cetak \"Angka positif\".\n",
    "- - Jika angka itu kurang dari nol, cetak \"Angka negatif\".\n",
    "- - Jika angka itu sama dengan nol, cetak \"Angka adalah nol\".\n",
    "- Selesai - Proses selesai.\n",
    "\n",
    "atau\n",
    "- Mulai - Mulai proses pengecekan.\n",
    "- Tanya ke diri sendiri - Apakah saya sudah mandi hari ini?\n",
    "- Evaluasi jawaban:\n",
    "- - Jika jawabannya adalah \"tidak\", maka:\n",
    "- - - Kesimpulan: Saya mungkin bau karena tidak mandi.\n",
    "- - - Tindakan: Pertimbangkan untuk mandi agar tidak bau.\n",
    "- - Jika jawabannya adalah \"ya\", maka:\n",
    "- - - Kesimpulan: Saya tidak bau karena sudah mandi.\n",
    "Selesai - Proses selesai, lanjutkan dengan aktivitas lain.\n",
    "\n",
    "\"\"\""
   ]
  },
  {
   "cell_type": "code",
   "execution_count": null,
   "id": "98211964-f4e3-41e2-a212-ba29e9b6e7af",
   "metadata": {},
   "outputs": [],
   "source": [
    "\"\"\"\n",
    "- Mulai- Mulai proses pengecekan.\n",
    "- Tanya ke diri sendiri - Apakah saya sudah belajar tentang Tipe data numerik?\n",
    "- Evaluasi jawaban:\n",
    "-- Jika jawabannya adalah \"Tidak, maka:\n",
    "--- Kesimpulan: Saya tidak paham apa itu int, float, complex\n",
    "-- Jika jawabannya adalah \"Iya,\n",
    "--- Kesimpulan: Saya paham materi yang dipelajari dan tau apa itu int, float, complex\n",
    "Selesai - Proses selesai, lanjutkan dengan aktivitas lain.\n",
    "\n",
    "\"\"\""
   ]
  },
  {
   "cell_type": "code",
   "execution_count": null,
   "id": "93cdda36-f71b-4995-a92f-b5682f5246f6",
   "metadata": {},
   "outputs": [],
   "source": [
    "# Jelaskan  Kesimpulan dari Pertemuan kali ini Dengan Format Markdown, Min.3 Baris\n",
    "# Note: nilai plus buat yang masukkan gambar, visualisasi penjelasan, dan table penjelasan"
   ]
  },
  {
   "cell_type": "markdown",
   "id": "74eb31d2-61e8-4f68-b179-32169322731b",
   "metadata": {},
   "source": [
    "**Kesimpulan pada hari ini** <br>\n",
    "\n",
    "Mempelajari Tipe data numerik, untuk menyimpan nilai numerik. seperti int/bilangan bulat, float/bilangan desimal.<br>\n",
    "<img src=\"foto1.png\" width=\"500px\">\n",
    "\n",
    "Mempelajari Tipe data string & method string, untuk menyimpan teks atau karakater yang diapit oleh tanda kutip tunggal/ganda.<br>\n",
    "<img src=\"foto2.png\" width=\"500px\">\n",
    "\n",
    "Mempelajari String formatting, untuk menyisipkan variabel atau nilai ke dalam string.<br>\n",
    "<img src=\"foto3.png\" width=\"500px\">"
   ]
  },
  {
   "cell_type": "code",
   "execution_count": null,
   "id": "de6c0cd8-7007-488f-ba74-a5021b5b312a",
   "metadata": {},
   "outputs": [],
   "source": []
  }
 ],
 "metadata": {
  "colab": {
   "provenance": []
  },
  "kernelspec": {
   "display_name": "Python 3 (ipykernel)",
   "language": "python",
   "name": "python3"
  },
  "language_info": {
   "codemirror_mode": {
    "name": "ipython",
    "version": 3
   },
   "file_extension": ".py",
   "mimetype": "text/x-python",
   "name": "python",
   "nbconvert_exporter": "python",
   "pygments_lexer": "ipython3",
   "version": "3.12.4"
  },
  "widgets": {
   "application/vnd.jupyter.widget-state+json": {
    "state": {},
    "version_major": 2,
    "version_minor": 0
   }
  }
 },
 "nbformat": 4,
 "nbformat_minor": 5
}
