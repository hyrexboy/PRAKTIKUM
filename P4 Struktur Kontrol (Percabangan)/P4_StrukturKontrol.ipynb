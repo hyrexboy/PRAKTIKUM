{
 "cells": [
  {
   "cell_type": "markdown",
   "id": "b3450a5a-c882-48e6-8aae-8be59018aedb",
   "metadata": {
    "id": "b3450a5a-c882-48e6-8aae-8be59018aedb"
   },
   "source": [
    "\n",
    "# Praktikum 4: Struktur Kontrol\n",
    "\n",
    "## Tujuan Pembelajaran\n",
    "- Mengimplementasikan struktur kontrol dalam Python 3.\n",
    "\n",
    "## Pokok Bahasan\n",
    "- If statements\n",
    "- Elif statements\n",
    "- Else statements\n",
    "- Nested control structures\n",
    "- One-line control structures\n",
    "\n",
    "Pada praktikum ini, Anda akan berlatih menggunakan struktur kontrol di dalam bahasa Python untuk menyelesaikan beberapa skenario pemrograman.\n"
   ]
  },
  {
   "attachments": {},
   "cell_type": "markdown",
   "id": "e989c82b-4c5e-4eaf-9152-4a4c9a494b65",
   "metadata": {},
   "source": [
    "\n",
    "### Percobaan 4.1: Menggunakan If Statement\n",
    "\n",
    "Buatlah program yang meminta input umur dari pengguna dan menampilkan pesan \"Anda masih muda!\" jika umur yang diinput kurang dari 30.\n",
    "\n",
    "#### Soal:\n",
    "1. Tuliskan program sesuai dengan deskripsi di atas.\n",
    "2. Berikan penjelasan mengenai output yang dihasilkan.\n",
    "3. Apa yang terjadi jika nilai yang diinput lebih dari atau sama dengan 30?\n",
    "\n",
    "<img src=\"Screenshot (1).png\" alt=\"Deskripsi Gambar\" width=\"450\" style=\"margin-left: 30px;\" />\n",
    "\n"
   ]
  },
  {
   "cell_type": "code",
   "execution_count": 119,
   "id": "b4d216e0-c4c6-4790-bc32-a2805fffc810",
   "metadata": {},
   "outputs": [
    {
     "name": "stdin",
     "output_type": "stream",
     "text": [
      "Berapakah umur anda? 30\n"
     ]
    },
    {
     "name": "stdout",
     "output_type": "stream",
     "text": [
      "SEPUH!\n",
      "Terima kasih!\n"
     ]
    }
   ],
   "source": [
    "# Ketikan Code Disini lalu Jalankan (Run)\n",
    "umur = int(input(\"Berapakah umur anda?\"))\n",
    "\n",
    "if umur < 30:\n",
    "    print(\"Anda masih muda!\") #jika kita input umur dibawah 30 maka output yang dihasilkan adalah \"Anda masih muda!\"\n",
    "else:\n",
    "    print(\"SEPUH!\") #jika kita input umur diatas 30 maka output yang dihasilkan adalah \"SEPUH!\"\n",
    "\n",
    "print(\"Terima kasih!\")"
   ]
  },
  {
   "cell_type": "markdown",
   "id": "28e24639-72f7-4d78-8169-b805c5bee744",
   "metadata": {},
   "source": [
    "\n",
    "### Percobaan 4.2: Menggunakan If, Elif, dan Else\n",
    "\n",
    "Buatlah program yang meminta input usia pengguna dan menampilkan kategori usia mereka sebagai berikut:\n",
    "- 0-12 tahun: Anak-anak\n",
    "- 13-19 tahun: Remaja\n",
    "- 20-59 tahun: Dewasa\n",
    "- 60 tahun ke atas: Lansia\n",
    "\n",
    "#### Soal:\n",
    "1. Buat program dengan menggunakan if, elif, dan else.\n",
    "2. Berikan penjelasan mengenai setiap kondisi.\n",
    "3. Tampilkan hasilnya dan beri komentar.\n",
    "\n",
    "<img src=\"Screenshot (2).png\" alt=\"Deskripsi Gambar\" width=\"450\" style=\"margin-left: 30px;\" />\n"
   ]
  },
  {
   "cell_type": "code",
   "execution_count": 99,
   "id": "e039c80b-1985-43e3-a0cd-dc4a73b19a0a",
   "metadata": {},
   "outputs": [
    {
     "name": "stdin",
     "output_type": "stream",
     "text": [
      "Berapakah usia Anda? 60\n"
     ]
    },
    {
     "name": "stdout",
     "output_type": "stream",
     "text": [
      "Anda lansia\n"
     ]
    }
   ],
   "source": [
    "# Ketikan Code Disini lalu Jalankan (Run)\n",
    "usia = int(input(\"Berapakah usia Anda?\"))\n",
    "\n",
    "if usia <= 12:\n",
    "    print(\"Anda masih anak-anak\") #jika kita input umur dibawah 12 maka output yang dihasilkan adalah \"Anda masih anak-anak\"\n",
    "elif usia <= 19:\n",
    "    print(\"Anda remaja\") #jika kita input umur dibawah 19 maka output yang dihasilkan adalah \"Anda remaja\"\n",
    "elif usia <= 59:\n",
    "    print(\"Anda dewasa\") #jika kita input umur dibawah 59 maka output yang dihasilkan adalah \"Anda dewasa\"\n",
    "else:\n",
    "    print(\"Anda lansia\") #jika kita input umur diatas 60 maka output yang dihasilkan dalah \"Anda lansia\""
   ]
  },
  {
   "cell_type": "markdown",
   "id": "04451d75-fd5c-418f-b2b3-bfe3ca35497d",
   "metadata": {},
   "source": [
    "\n",
    "### Percobaan 4.3: Struktur Kontrol Bersarang (Nested If)\n",
    "\n",
    "Buatlah program yang menanyakan tinggi badan seseorang dan berat badannya, kemudian tentukan apakah mereka memiliki berat badan yang ideal dengan kriteria berikut:\n",
    "- Jika tinggi badan < 160 cm, berat badan ideal adalah < 60 kg.\n",
    "- Jika tinggi badan >= 160 cm, berat badan ideal adalah < 70 kg.\n",
    "\n",
    "#### Soal:\n",
    "1. Implementasikan struktur kontrol bersarang untuk menentukan apakah berat badan ideal.\n",
    "2. Uji dengan berbagai input dan jelaskan hasilnya.\n",
    "\n",
    "<img src=\"Screenshot (3).png\" alt=\"Deskripsi Gambar\" width=\"450\" style=\"margin-left: 30px;\" />\n"
   ]
  },
  {
   "cell_type": "code",
   "execution_count": 165,
   "id": "6adfa443-487d-46cb-9544-2196376747af",
   "metadata": {},
   "outputs": [
    {
     "name": "stdin",
     "output_type": "stream",
     "text": [
      "Berapa tinggi badan Anda (dalam cm)? 160\n",
      "Berapa berat badan Anda (dalam kg)? 70\n"
     ]
    },
    {
     "name": "stdout",
     "output_type": "stream",
     "text": [
      "Berat badan Anda tidak ideal.\n"
     ]
    }
   ],
   "source": [
    "# Ketikan Code Disini lalu Jalankan (Run)\n",
    "tinggi = float(input(\"Berapa tinggi badan Anda (dalam cm)?\"))\n",
    "berat = float(input(\"Berapa berat badan Anda (dalam kg)?\"))\n",
    "\n",
    "if tinggi < 160:\n",
    "    if berat < 60:\n",
    "        print(\"Berat badan Anda ideal!\") #jika kita input TB dibawah 160 dengan BB dibawah 60 maka output yang dihasilkan adalah \"Berat badan Anda ideal!)\n",
    "    else:\n",
    "        print(\"Berat badan Anda tidak ideal!\")\n",
    "else:\n",
    "    if berat < 70:\n",
    "        print(\"Berat badan Anda ideal!\") #jika kita input TB diatas 160 dengan BB dibawah 70 maka output yang dihasilkan adalah \"Berat badan Anda ideal!)\n",
    "    else:\n",
    "        print(\"Berat badan Anda tidak ideal.\") #jika kita input TB diatas 160 dengan BB diatas 70 maka output yang dihasilkan adalah \"Berat badan Anda tidak ideal!\"\n",
    "                                               #begitu juga sebaliknya jika kita input TB dibawah 160 dengan BB diatas 70 maka output yang dihasilkan adalah \"Berat badan Anda tidak ideal!\""
   ]
  },
  {
   "cell_type": "markdown",
   "id": "2b0246ff-584f-4484-b52d-18733bcde7ae",
   "metadata": {},
   "source": [
    "\n",
    "### Percobaan 4.4: Kombinasi Kondisi dengan Operator Logika\n",
    "\n",
    "Buatlah program yang mengevaluasi tiga nilai: usia, tinggi, dan berat badan seseorang. Program akan menentukan apakah seseorang dapat mengikuti kompetisi atletik dengan kondisi:\n",
    "- Usia antara 18 dan 30 tahun\n",
    "- Tinggi badan lebih dari 165 cm\n",
    "- Berat badan di bawah 80 kg\n",
    "\n",
    "Gunakan operator logika (`and`, `or`, `not`) untuk memeriksa kondisi tersebut.\n",
    "\n",
    "#### Soal:\n",
    "1. Implementasikan program dengan kombinasi kondisi dan operator logika.\n",
    "2. Uji dengan berbagai input untuk memastikan program berfungsi sesuai.\n",
    "\n",
    "<img src=\"Screenshot (4).png\" alt=\"Deskripsi Gambar\" width=\"450\" style=\"margin-left: 30px;\" />\n"
   ]
  },
  {
   "cell_type": "code",
   "execution_count": 159,
   "id": "84f488e3-80ed-4148-8126-14b4ee9ece30",
   "metadata": {},
   "outputs": [
    {
     "name": "stdin",
     "output_type": "stream",
     "text": [
      "Berapa usia Anda? 18\n",
      "Berapa tinggi badan Anda? 165\n",
      "Berapa berat badan Anda? 71\n"
     ]
    },
    {
     "name": "stdout",
     "output_type": "stream",
     "text": [
      "Maaf, Anda tidak memenuhi syarat.\n"
     ]
    }
   ],
   "source": [
    "# Ketikan Code Disini lalu Jalankan (Run)\n",
    "usia = int(input(\"Berapa usia Anda?\"))\n",
    "tinggi = float(input(\"Berapa tinggi badan Anda?\"))\n",
    "berat = float(input(\"Berapa berat badan Anda?\"))\n",
    "\n",
    "if 18 <= usia <= 30 and tinggi > 165 and berat < 80:\n",
    "    print(\"Anda memenuhi syarat untuk mengikuti kompetisi atletik!\")\n",
    "else:\n",
    "    print(\"Maaf, Anda tidak memenuhi syarat.\")"
   ]
  },
  {
   "cell_type": "markdown",
   "id": "027609a3-346c-4999-a485-772128a8bb6a",
   "metadata": {},
   "source": [
    "\n",
    "### Percobaan 4.5: Struktur Kontrol Satu Baris\n",
    "\n",
    "Buat program yang menanyakan apakah seseorang memiliki SIM. Jika mereka memiliki SIM, tampilkan \"Anda bisa mengemudi!\", jika tidak tampilkan \"Anda tidak bisa mengemudi!\" Tulis program ini dalam satu baris menggunakan if-else satu baris.\n",
    "\n",
    "#### Soal:\n",
    "1. Buat program yang menggunakan if-else satu baris.\n",
    "2. Berikan penjelasan mengenai cara kerja program.\n",
    "\n",
    "<img src=\"Screenshot (5).png\" alt=\"Deskripsi Gambar\" width=\"550\" style=\"margin-left: 30px;\" />\n"
   ]
  },
  {
   "cell_type": "code",
   "execution_count": 183,
   "id": "90d7f7fe-8dc6-4ec7-88e3-57c738f42b77",
   "metadata": {},
   "outputs": [
    {
     "name": "stdin",
     "output_type": "stream",
     "text": [
      "Apakah Anda memiliki SIM? (y/n):  y\n"
     ]
    },
    {
     "name": "stdout",
     "output_type": "stream",
     "text": [
      "Anda bisa mengemudi!\n"
     ]
    }
   ],
   "source": [
    "# Ketikan Code Disini lalu Jalankan (Run)\n",
    "sim = input(\"Apakah Anda memiliki SIM? (y/n): \").lower() #input disini memiliki 2 jawaban yaitu y/n\n",
    "\n",
    "print(\"Anda bisa mengemudi!\") if sim == \"y\" else print(\"Anda tidak bisa mengemudi!\") #jika kita input jawaban y maka output yang dihasilkan adalah \"Anda bisa mengemudi!\"\n",
    "                                                                                     #jika kita input jawaban n maka output yang dihasilkan adalah \"Anda tidak bisa mengemudi!\""
   ]
  },
  {
   "cell_type": "markdown",
   "id": "108ed125-3fcf-4ae5-aa9b-68247522cb89",
   "metadata": {},
   "source": [
    "\n",
    "### Percobaan 4.6: Looping dan Kondisi\n",
    "\n",
    "Buatlah program yang terus meminta input bilangan bulat dari pengguna dan berhenti ketika pengguna memasukkan angka negatif. Jika bilangan yang dimasukkan genap, program akan menampilkan \"Angka genap\". Jika bilangan ganjil, tampilkan \"Angka ganjil\".\n",
    "\n",
    "#### Soal:\n",
    "1. Implementasikan perulangan dengan kondisi untuk mengecek bilangan ganjil atau genap.\n",
    "2. Uji program dengan berbagai input dan berikan penjelasan.\n",
    "\n",
    "<img src=\"Screenshot (6).png\" alt=\"Deskripsi Gambar\" width=\"550\" style=\"margin-left: 30px;\" />\n"
   ]
  },
  {
   "cell_type": "code",
   "execution_count": 191,
   "id": "72270ff1-d6f6-4395-9bb1-b55d4dad297f",
   "metadata": {},
   "outputs": [
    {
     "name": "stdin",
     "output_type": "stream",
     "text": [
      "Masukkan bilangan bulat (negatif untuk berhenti):  1\n"
     ]
    },
    {
     "name": "stdout",
     "output_type": "stream",
     "text": [
      "Angka ganjil\n"
     ]
    },
    {
     "name": "stdin",
     "output_type": "stream",
     "text": [
      "Masukkan bilangan bulat (negatif untuk berhenti):  2\n"
     ]
    },
    {
     "name": "stdout",
     "output_type": "stream",
     "text": [
      "Angka genap\n"
     ]
    },
    {
     "name": "stdin",
     "output_type": "stream",
     "text": [
      "Masukkan bilangan bulat (negatif untuk berhenti):  -3\n"
     ]
    },
    {
     "name": "stdout",
     "output_type": "stream",
     "text": [
      "Program berhenti.\n"
     ]
    }
   ],
   "source": [
    "# Ketikan Code Disini lalu Jalankan (Run)\n",
    "while True:\n",
    "    angka = int(input(\"Masukkan bilangan bulat (negatif untuk berhenti): \"))\n",
    "\n",
    "    if angka < 0:\n",
    "        print(\"Program berhenti.\") #jika kita input nilai dengan - (negatif) maka program akan berhenti\n",
    "        break\n",
    "    elif angka % 2 == 0:\n",
    "        print(\"Angka genap\") #jika kita input nilai dengan bilangan bulat maka output yang dihasilkan \"Angka ganjil\"\n",
    "    else:\n",
    "        print(\"Angka ganjil\") #jika kita input nilai dengan bilangan tidak bulat maka output yang dihasilkan \"Angka genap\""
   ]
  },
  {
   "cell_type": "code",
   "execution_count": null,
   "id": "ffceeb77-e437-4695-a63a-f3cd3dbba5ab",
   "metadata": {},
   "outputs": [],
   "source": [
    "# Tugas Mandiri (latihan membuat alur teks program)\n",
    "## Buatlah program dengan alur yang anda bikin sesuai materi diatas\n",
    "## Dimulai dari alur teks (Algoritma Informal)\n",
    "\"\"\"\n",
    "Contoh sederhana dari sebuah algoritma informal yang menjelaskan bagaimana menentukan apakah sebuah angka adalah positif, negatif, atau nol:\n",
    "\n",
    "- Mulai - Mulai proses.\n",
    "- Baca angka - Ambil sebuah angka dari pengguna.\n",
    "- Periksa angka tersebut:\n",
    "- - Jika angka itu lebih besar dari nol, cetak \"Angka positif\".\n",
    "- - Jika angka itu kurang dari nol, cetak \"Angka negatif\".\n",
    "- - Jika angka itu sama dengan nol, cetak \"Angka adalah nol\".\n",
    "- Selesai - Proses selesai.\n",
    "\n",
    "atau\n",
    "- Mulai - Mulai proses pengecekan.\n",
    "- Tanya ke diri sendiri - Apakah saya sudah mandi hari ini?\n",
    "- Evaluasi jawaban:\n",
    "- - Jika jawabannya adalah \"tidak\", maka:\n",
    "- - - Kesimpulan: Saya mungkin bau karena tidak mandi.\n",
    "- - - Tindakan: Pertimbangkan untuk mandi agar tidak bau.\n",
    "- - Jika jawabannya adalah \"ya\", maka:\n",
    "- - - Kesimpulan: Saya tidak bau karena sudah mandi.\n",
    "Selesai - Proses selesai, lanjutkan dengan aktivitas lain.\n",
    "\n",
    "\"\"\""
   ]
  },
  {
   "cell_type": "code",
   "execution_count": null,
   "id": "f3c7046a-cbab-4e89-8e71-8370c8808893",
   "metadata": {},
   "outputs": [],
   "source": [
    "\"\"\"\n",
    "- Mulai - Mulai proses pengecekan.\n",
    "- Tanya ke diri sendiri - Saya hari ini ingin pergi ke kampus\n",
    "- Evaluasi jawaban:\n",
    "-- Jika cuaca hari ini cerah\n",
    "--- Kesimpulan: Maka saya memakai pakaian casual/bebas pantas\n",
    "-- Apabila cuaca hari ini hujan\n",
    "--- Kesimpulan: Maka saya memakai jas hujan\n",
    "-- Selain itu cuaca panas terik\n",
    "--- Kesimpulan: Maka saya memakai jaket/hoodie\n",
    "Selesai - Proses selesai, lanjutkan dengan aktivitas lain.\n",
    "\n",
    "\"\"\""
   ]
  },
  {
   "cell_type": "code",
   "execution_count": null,
   "id": "93cdda36-f71b-4995-a92f-b5682f5246f6",
   "metadata": {},
   "outputs": [],
   "source": [
    "# Jelaskan  Kesimpulan dari Pertemuan kali ini Dengan Format Markdown, Min.3 Baris\n",
    "# Note: nilai plus buat yang masukkan gambar, visualisasi penjelasan, dan table penjelasan"
   ]
  },
  {
   "attachments": {},
   "cell_type": "markdown",
   "id": "2c62ce3f-bb6d-4e2c-ac1a-7e582806bf83",
   "metadata": {},
   "source": [
    "**Kesimpulan pada hari ini**<br>\n",
    "\n",
    "Hari ini mempelajari mengimplementasikan struktur kontrol dalam Python.<br>\n",
    "Suatu program akan dijalankan baris perbaris dari baris pertama hingga baris terakhir.<br>\n",
    "dengan beberapa Pokok Bahasan:<br>\n",
    "\n",
    "If statements<br>\n",
    "Elif statements<br>\n",
    "Else statements<br>\n",
    "Nested control structures, Struktur kontrol mungkin dapat bersarang pada struktur kontrol yang lain<br>\n",
    "One-line control structures, Struktur kontrol sangat mungkin untuk dituliskan dalam satu baris<br>\n",
    "\n",
    "Hasil percobaan beberapa soal praktikum pada pertemuan ke 4:<br>\n",
    "\n",
    "**If Statement**<br>\n",
    "<img src=\"1.png\" width=\"500px\">\n",
    "\n",
    "**If, Elif, dan Else**<br>\n",
    "<img src=\"2.png\" width=\"500px\">"
   ]
  },
  {
   "cell_type": "code",
   "execution_count": null,
   "id": "380f650a-0f1d-4c6e-a998-422895478c2c",
   "metadata": {},
   "outputs": [],
   "source": []
  }
 ],
 "metadata": {
  "colab": {
   "provenance": []
  },
  "kernelspec": {
   "display_name": "Python 3 (ipykernel)",
   "language": "python",
   "name": "python3"
  },
  "language_info": {
   "codemirror_mode": {
    "name": "ipython",
    "version": 3
   },
   "file_extension": ".py",
   "mimetype": "text/x-python",
   "name": "python",
   "nbconvert_exporter": "python",
   "pygments_lexer": "ipython3",
   "version": "3.12.4"
  },
  "widgets": {
   "application/vnd.jupyter.widget-state+json": {
    "state": {},
    "version_major": 2,
    "version_minor": 0
   }
  }
 },
 "nbformat": 4,
 "nbformat_minor": 5
}
